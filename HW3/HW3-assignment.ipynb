{
 "cells": [
  {
   "cell_type": "code",
   "execution_count": 1,
   "id": "3318d9dc",
   "metadata": {},
   "outputs": [],
   "source": [
    "from collections import defaultdict\n",
    "from copy import copy\n",
    "from itertools import product\n",
    "\n",
    "import matplotlib.pyplot as plt\n",
    "import numpy as np\n",
    "import pandas as pd\n",
    "import pipeGEM as pg\n",
    "import seaborn as sns\n",
    "from cobra import Metabolite, Model, Reaction\n",
    "from cobra.flux_analysis.parsimonious import pfba\n",
    "from cobra.flux_analysis.variability import flux_variability_analysis as fva\n",
    "from cobra.io import load_model\n",
    "from pipeGEM.data import GeneData\n",
    "from pipeGEM.utils import random_perturb"
   ]
  },
  {
   "cell_type": "markdown",
   "id": "87fc5da8",
   "metadata": {},
   "source": [
    "# Q1"
   ]
  },
  {
   "cell_type": "markdown",
   "id": "c34b1177",
   "metadata": {},
   "source": [
    "## Create the metabolites"
   ]
  },
  {
   "cell_type": "code",
   "execution_count": 2,
   "id": "e45e0ca5",
   "metadata": {},
   "outputs": [],
   "source": [
    "metabolites = {\n",
    "    \"glucose\": Metabolite(\"glucose\"),\n",
    "    \"pyruvate\": Metabolite(\"pyruvate\"),\n",
    "    \"lactate\": Metabolite(\"lactate\"),\n",
    "    \"acetyl_CoA\": Metabolite(\"acetyl_CoA\"),\n",
    "    \"OAA\": Metabolite(\"OAA\"),\n",
    "    \"citrate\": Metabolite(\"citrate\"),\n",
    "    \"isocitrate\": Metabolite(\"isocitrate\"),\n",
    "    \"AKG\": Metabolite(\"AKG\"),\n",
    "    \"succinyl_CoA\": Metabolite(\"succinyl_CoA\"),\n",
    "    \"succinate\": Metabolite(\"succinate\"),\n",
    "    \"fumarate\": Metabolite(\"fumarate\"),\n",
    "    \"malate\": Metabolite(\"malate\"),\n",
    "    \"NAD+\": Metabolite(\"NAD+\"),\n",
    "    \"NADH\": Metabolite(\"NADH\"),\n",
    "    \"CO2\": Metabolite(\"CO2\"),\n",
    "    \"H2O\": Metabolite(\"H2O\"),\n",
    "    \"FAD\": Metabolite(\"FAD\"),\n",
    "    \"FADH2\": Metabolite(\"FADH2\"),\n",
    "    \"GDP\": Metabolite(\"GDP\"),\n",
    "    \"GTP\": Metabolite(\"GTP\"),\n",
    "    \"ADP\": Metabolite(\"ADP\"),\n",
    "    \"ATP\": Metabolite(\"ATP\"),\n",
    "    \"Q\": Metabolite(\"Q\"),\n",
    "    \"QH2\": Metabolite(\"QH2\"),\n",
    "    \"H+(i)\": Metabolite(\"H+(i)\"),\n",
    "    \"H+(m)\": Metabolite(\"H+(m)\"),\n",
    "    \"O2\": Metabolite(\"O2\"),\n",
    "    \"Cyt_c_ox\": Metabolite(\"Cyt_c_ox\"),\n",
    "    \"Cyt_c_red\": Metabolite(\"Cyt_c_red\"),\n",
    "}"
   ]
  },
  {
   "cell_type": "markdown",
   "id": "145a1146",
   "metadata": {},
   "source": [
    "## Create the reactions"
   ]
  },
  {
   "cell_type": "code",
   "execution_count": 4,
   "id": "3151cf47",
   "metadata": {},
   "outputs": [],
   "source": [
    "reactions = {\n",
    "    \"R1\": {\"glucose\": 1},\n",
    "    \"R2\": {\n",
    "        \"glucose\": -1,\n",
    "        \"pyruvate\": 2,\n",
    "        \"ADP\": -2,\n",
    "        \"ATP\": 2,\n",
    "        \"NAD+\": -2,\n",
    "        \"NADH\": 2,\n",
    "    },\n",
    "    \"R3\": {\"pyruvate\": -1, \"lactate\": 1, \"NADH\": -1, \"NAD+\": 1},\n",
    "    \"R4\": {\"pyruvate\": -1, \"acetyl_CoA\": 1, \"NAD+\": -1, \"NADH\": 1, \"CO2\": 1},\n",
    "    \"R5\": {\"acetyl_CoA\": -1, \"OAA\": -1, \"citrate\": 1},\n",
    "    \"R6\": {\"citrate\": -1, \"isocitrate\": 1},\n",
    "    \"R7\": {\"isocitrate\": -1, \"AKG\": 1, \"NAD+\": -1, \"NADH\": 1, \"CO2\": 1},\n",
    "    \"R8\": {\"AKG\": -1, \"succinyl_CoA\": 1, \"NAD+\": -1, \"NADH\": 1, \"CO2\": 1},\n",
    "    \"R9\": {\"succinyl_CoA\": -1, \"succinate\": 1, \"GDP\": -1, \"GTP\": 1},\n",
    "    \"R10\": {\"ATP\": -1, \"ADP\": 1, \"GDP\": -1, \"GTP\": 1},\n",
    "    \"R11\": {\"succinate\": -1, \"fumarate\": 1, \"FAD\": -1, \"FADH2\": 1},\n",
    "    \"R12\": {\"fumarate\": -1, \"malate\": 1},\n",
    "    \"R13\": {\"malate\": -1, \"OAA\": 1, \"NAD+\": -1, \"NADH\": 1},\n",
    "    \"R14\": {\"lactate\": -1},\n",
    "    \"C1\": {\"Q\": -1, \"QH2\": 1, \"H+(m)\": -5, \"NADH\": -1, \"H+(i)\": 4, \"NAD+\": 1},\n",
    "    \"C2\": {\"Q\": -1, \"QH2\": 1, \"FADH2\": -1, \"FAD\": 1},\n",
    "    \"C3\": {\n",
    "        \"QH2\": -1,\n",
    "        \"Q\": 1,\n",
    "        \"Cyt_c_ox\": -2,\n",
    "        \"Cyt_c_red\": 2,\n",
    "        \"H+(m)\": -2,\n",
    "        \"H+(i)\": 4,\n",
    "    },\n",
    "    \"C4\": {\n",
    "        \"Cyt_c_red\": -2,\n",
    "        \"Cyt_c_ox\": 2,\n",
    "        \"H+(m)\": -4,\n",
    "        \"O2\": -0.5,\n",
    "        \"H+(i)\": 2,\n",
    "        \"H2O\": 1,\n",
    "    },\n",
    "    \"C5\": {\"H+(i)\": -3, \"ADP\": -1, \"H+(m)\": 2, \"ATP\": 1, \"H2O\": 1},\n",
    "}\n",
    "\n",
    "exchange_reactions = {\n",
    "    \"In_NAD+\": {\"NAD+\": 1},\n",
    "    \"Out_NADH\": {\"NADH\": -1},\n",
    "    \"In_O2\": {\"O2\": 1},\n",
    "    \"Out_CO2\": {\"CO2\": -1},\n",
    "    \"Out_H2O\": {\"H2O\": -1},\n",
    "    \"In_FAD\": {\"FAD\": 1},\n",
    "    \"Out_FADH2\": {\"FADH2\": -1},\n",
    "    \"In_GDP\": {\"GDP\": 1},\n",
    "    \"Out_GTP\": {\"GTP\": -1},\n",
    "    \"In_ADP\": {\"ADP\": 1},\n",
    "    \"Out_ATP\": {\"ATP\": -1},\n",
    "    \"In_Q\": {\"Q\": 1},\n",
    "    \"Out_QH2\": {\"QH2\": -1},\n",
    "    \"In_H+(m)\": {\"H+(m)\": 1},\n",
    "}"
   ]
  },
  {
   "cell_type": "markdown",
   "id": "1d41523a",
   "metadata": {},
   "source": [
    "## Create a model and add the reactions"
   ]
  },
  {
   "cell_type": "code",
   "execution_count": 5,
   "id": "ee780f0d",
   "metadata": {},
   "outputs": [],
   "source": [
    "model = Model()"
   ]
  },
  {
   "cell_type": "code",
   "execution_count": 6,
   "id": "6dadf08c",
   "metadata": {},
   "outputs": [],
   "source": [
    "for rxn_id, stoich in reactions.items():\n",
    "    rxn = Reaction(rxn_id)\n",
    "    rxn.add_metabolites({metabolites[m]: coeff for m, coeff in stoich.items()})\n",
    "    model.add_reactions([rxn])\n",
    "\n",
    "model.reactions.R1.lower_bound = 0\n",
    "model.reactions.R1.upper_bound = 25\n",
    "\n",
    "for rxn_id, stoich in exchange_reactions.items():\n",
    "    rxn = Reaction(rxn_id)\n",
    "    rxn.add_metabolites({metabolites[m]: coeff for m, coeff in stoich.items()})\n",
    "    rxn.lower_bound = 0\n",
    "    rxn.upper_bound = 2000\n",
    "    model.add_reactions([rxn])"
   ]
  },
  {
   "cell_type": "markdown",
   "id": "6de4bdb0",
   "metadata": {},
   "source": [
    "## Perform pFBA"
   ]
  },
  {
   "cell_type": "code",
   "execution_count": 7,
   "id": "dddd2ab2",
   "metadata": {},
   "outputs": [
    {
     "data": {
      "text/html": [
       "<strong><em>Optimal</em> solution with objective value 7116.667</strong><br><div>\n",
       "<style scoped>\n",
       "    .dataframe tbody tr th:only-of-type {\n",
       "        vertical-align: middle;\n",
       "    }\n",
       "\n",
       "    .dataframe tbody tr th {\n",
       "        vertical-align: top;\n",
       "    }\n",
       "\n",
       "    .dataframe thead th {\n",
       "        text-align: right;\n",
       "    }\n",
       "</style>\n",
       "<table border=\"1\" class=\"dataframe\">\n",
       "  <thead>\n",
       "    <tr style=\"text-align: right;\">\n",
       "      <th></th>\n",
       "      <th>fluxes</th>\n",
       "      <th>reduced_costs</th>\n",
       "    </tr>\n",
       "  </thead>\n",
       "  <tbody>\n",
       "    <tr>\n",
       "      <th>R1</th>\n",
       "      <td>2.500000e+01</td>\n",
       "      <td>-11.428571</td>\n",
       "    </tr>\n",
       "    <tr>\n",
       "      <th>R2</th>\n",
       "      <td>2.500000e+01</td>\n",
       "      <td>-2.000000</td>\n",
       "    </tr>\n",
       "    <tr>\n",
       "      <th>R3</th>\n",
       "      <td>-6.090366e-15</td>\n",
       "      <td>-2.000000</td>\n",
       "    </tr>\n",
       "    <tr>\n",
       "      <th>R4</th>\n",
       "      <td>5.000000e+01</td>\n",
       "      <td>-2.000000</td>\n",
       "    </tr>\n",
       "    <tr>\n",
       "      <th>R5</th>\n",
       "      <td>5.000000e+01</td>\n",
       "      <td>-2.000000</td>\n",
       "    </tr>\n",
       "    <tr>\n",
       "      <th>...</th>\n",
       "      <td>...</td>\n",
       "      <td>...</td>\n",
       "    </tr>\n",
       "    <tr>\n",
       "      <th>In_ADP</th>\n",
       "      <td>9.833333e+02</td>\n",
       "      <td>-2.000000</td>\n",
       "    </tr>\n",
       "    <tr>\n",
       "      <th>Out_ATP</th>\n",
       "      <td>9.833333e+02</td>\n",
       "      <td>-2.000000</td>\n",
       "    </tr>\n",
       "    <tr>\n",
       "      <th>In_Q</th>\n",
       "      <td>0.000000e+00</td>\n",
       "      <td>2.428571</td>\n",
       "    </tr>\n",
       "    <tr>\n",
       "      <th>Out_QH2</th>\n",
       "      <td>0.000000e+00</td>\n",
       "      <td>0.000000</td>\n",
       "    </tr>\n",
       "    <tr>\n",
       "      <th>In_H+(m)</th>\n",
       "      <td>1.183333e+03</td>\n",
       "      <td>-2.000000</td>\n",
       "    </tr>\n",
       "  </tbody>\n",
       "</table>\n",
       "<p>33 rows × 2 columns</p>\n",
       "</div>"
      ],
      "text/plain": [
       "<Solution 7116.667 at 0x2d832cb14c0>"
      ]
     },
     "execution_count": 7,
     "metadata": {},
     "output_type": "execute_result"
    }
   ],
   "source": [
    "model.objective = \"Out_ATP\"\n",
    "pfba(model)"
   ]
  },
  {
   "cell_type": "markdown",
   "id": "24a1ccf4",
   "metadata": {},
   "source": [
    "# Q2"
   ]
  },
  {
   "cell_type": "code",
   "execution_count": 8,
   "id": "efafe501",
   "metadata": {},
   "outputs": [],
   "source": [
    "solution = fva(model, fraction_of_optimum=0)"
   ]
  },
  {
   "cell_type": "code",
   "execution_count": 16,
   "id": "df05ef0f",
   "metadata": {},
   "outputs": [
    {
     "data": {
      "text/plain": [
       "933.3333333333336"
      ]
     },
     "execution_count": 16,
     "metadata": {},
     "output_type": "execute_result"
    }
   ],
   "source": [
    "c5_flux_range = solution.loc[\"C5\"].iloc[1] - solution.loc[\"C5\"].iloc[0]\n",
    "c5_flux_range"
   ]
  },
  {
   "cell_type": "code",
   "execution_count": null,
   "id": "db739e33",
   "metadata": {},
   "outputs": [],
   "source": [
    "records = []\n",
    "thres = c5_flux_range / 2\n",
    "\n",
    "for i in range(len(model.reactions)):\n",
    "    with model:\n",
    "        model.reactions[i].knock_out()\n",
    "        sol = fva(model, fraction_of_optimum=0)\n",
    "        knock_flux_range = sol.loc[\"C5\"].iloc[1] - sol.loc[\"C5\"].iloc[0]\n",
    "    if knock_flux_range < thres:\n",
    "        records.append(model.reactions[i].id)"
   ]
  },
  {
   "cell_type": "code",
   "execution_count": 39,
   "id": "aab88b60",
   "metadata": {},
   "outputs": [
    {
     "data": {
      "text/plain": [
       "['R1',\n",
       " 'R2',\n",
       " 'R4',\n",
       " 'R5',\n",
       " 'R6',\n",
       " 'R7',\n",
       " 'R8',\n",
       " 'R9',\n",
       " 'R11',\n",
       " 'R12',\n",
       " 'R13',\n",
       " 'C1',\n",
       " 'C3',\n",
       " 'C4',\n",
       " 'C5',\n",
       " 'In_O2',\n",
       " 'Out_CO2',\n",
       " 'Out_H2O',\n",
       " 'In_GDP',\n",
       " 'Out_GTP',\n",
       " 'In_H+(m)']"
      ]
     },
     "execution_count": 39,
     "metadata": {},
     "output_type": "execute_result"
    }
   ],
   "source": [
    "records"
   ]
  },
  {
   "cell_type": "markdown",
   "id": "900bea24",
   "metadata": {},
   "source": [
    "# Q3"
   ]
  },
  {
   "cell_type": "markdown",
   "id": "8ed18d78",
   "metadata": {},
   "source": [
    "## Create upper bounds"
   ]
  },
  {
   "cell_type": "code",
   "execution_count": 66,
   "id": "5c49a9d0",
   "metadata": {},
   "outputs": [],
   "source": [
    "upper_bounds = list(range(0, 1001, 100))"
   ]
  },
  {
   "cell_type": "code",
   "execution_count": 67,
   "id": "66581cc3",
   "metadata": {},
   "outputs": [],
   "source": [
    "upper_bounds_2 = list(product(upper_bounds, upper_bounds))"
   ]
  },
  {
   "cell_type": "markdown",
   "id": "09403aad",
   "metadata": {},
   "source": [
    "## Iterate upper bounds & Perform pFBA"
   ]
  },
  {
   "cell_type": "code",
   "execution_count": null,
   "id": "93428c4c",
   "metadata": {},
   "outputs": [],
   "source": [
    "r14_flux = defaultdict(list)\n",
    "for rxn_id in [14, 16, 18]:\n",
    "    for ub in upper_bounds:\n",
    "        with model:\n",
    "            model.reactions[rxn_id].upper_bound = ub\n",
    "            df = pfba(model)\n",
    "            r14_flux[model.reactions[rxn_id].id].append(df[\"R14\"])"
   ]
  },
  {
   "cell_type": "code",
   "execution_count": null,
   "id": "01bcc596",
   "metadata": {},
   "outputs": [],
   "source": [
    "for ub_c1, ub_c3 in upper_bounds_2:\n",
    "    with model:\n",
    "        model.reactions.C1.upper_bound = ub_c1\n",
    "        model.reactions.C3.upper_bound = ub_c3\n",
    "        df = pfba(model)\n",
    "        r14_flux[\"C1+C3\"].append(df[\"R14\"])"
   ]
  },
  {
   "cell_type": "markdown",
   "id": "9106aaff",
   "metadata": {},
   "source": [
    "## Visualization"
   ]
  },
  {
   "cell_type": "code",
   "execution_count": 96,
   "id": "3002cfbc",
   "metadata": {},
   "outputs": [
    {
     "data": {
      "image/png": "[encoded data removed]",
      "text/plain": [
       "<Figure size 1400x400 with 3 Axes>"
      ]
     },
     "metadata": {},
     "output_type": "display_data"
    }
   ],
   "source": [
    "fig, axes = plt.subplots(1, 3, figsize=(14, 4), sharex=True)\n",
    "for i, (reaction, fluxes) in enumerate(r14_flux.items()):\n",
    "    if reaction == \"C1+C3\":\n",
    "        continue\n",
    "    ax = axes[i]\n",
    "    ax.plot(upper_bounds, fluxes, linestyle=\"-\")\n",
    "    ax.set_ylabel(\"R14 Flux\")\n",
    "    ax.grid(True)\n",
    "    ax.set_xlabel(f\"{reaction} Upper Bound\")\n",
    "\n",
    "plt.tight_layout()\n",
    "plt.show()"
   ]
  },
  {
   "cell_type": "code",
   "execution_count": 94,
   "id": "281f83f1",
   "metadata": {},
   "outputs": [
    {
     "data": {
      "image/png": "[encoded data removed]",
      "text/plain": [
       "<Figure size 600x400 with 2 Axes>"
      ]
     },
     "metadata": {},
     "output_type": "display_data"
    }
   ],
   "source": [
    "plt.figure(figsize=(6, 4))\n",
    "ax = sns.heatmap(\n",
    "    np.array(r14_flux[\"C1+C3\"]).reshape(11, 11).T,\n",
    "    xticklabels=upper_bounds,\n",
    "    yticklabels=upper_bounds,\n",
    "    cmap=\"viridis\",\n",
    "    cbar_kws={\"label\": \"R14 Flux\"},\n",
    ")\n",
    "\n",
    "plt.title(\"R14 Flux Across Combinations of C1+C3 Upper Bounds\")\n",
    "plt.xlabel(\"C1 Upper Bound\")\n",
    "plt.ylabel(\"C3 Upper Bound\")\n",
    "plt.tight_layout()\n",
    "plt.show()"
   ]
  },
  {
   "cell_type": "markdown",
   "id": "c1b18184",
   "metadata": {},
   "source": [
    "# Q4\n"
   ]
  },
  {
   "cell_type": "code",
   "execution_count": 2,
   "id": "94666c4b",
   "metadata": {},
   "outputs": [],
   "source": [
    "raw_count = pd.read_csv(\"GSE291717_sysETS_TPM_File.csv\", index_col=0)"
   ]
  },
  {
   "cell_type": "code",
   "execution_count": 3,
   "id": "16c5a28a",
   "metadata": {},
   "outputs": [],
   "source": [
    "textbook = load_model(\"textbook\")\n",
    "p_textbook = pg.Model(\"tttextbook\", textbook)"
   ]
  },
  {
   "cell_type": "code",
   "execution_count": 4,
   "id": "7b42778e",
   "metadata": {},
   "outputs": [
    {
     "name": "stderr",
     "output_type": "stream",
     "text": [
      "100%|██████████| 95/95 [00:00<00:00, 14705.45it/s]\n"
     ]
    },
    {
     "name": "stdout",
     "output_type": "stream",
     "text": [
      "Finished mapping in 0.009131431579589844 seconds.\n"
     ]
    },
    {
     "name": "stderr",
     "output_type": "stream",
     "text": [
      "100%|██████████| 95/95 [00:00<00:00, 16262.96it/s]\n"
     ]
    },
    {
     "name": "stdout",
     "output_type": "stream",
     "text": [
      "Finished mapping in 0.007663726806640625 seconds.\n"
     ]
    },
    {
     "name": "stderr",
     "output_type": "stream",
     "text": [
      "100%|██████████| 95/95 [00:00<00:00, 12497.14it/s]\n"
     ]
    },
    {
     "name": "stdout",
     "output_type": "stream",
     "text": [
      "Finished mapping in 0.009227275848388672 seconds.\n"
     ]
    },
    {
     "name": "stderr",
     "output_type": "stream",
     "text": [
      "100%|██████████| 95/95 [00:00<00:00, 16669.83it/s]\n"
     ]
    },
    {
     "name": "stdout",
     "output_type": "stream",
     "text": [
      "Finished mapping in 0.007248640060424805 seconds.\n"
     ]
    },
    {
     "name": "stderr",
     "output_type": "stream",
     "text": [
      "100%|██████████| 95/95 [00:00<00:00, 15710.86it/s]\n"
     ]
    },
    {
     "name": "stdout",
     "output_type": "stream",
     "text": [
      "Finished mapping in 0.0077397823333740234 seconds.\n"
     ]
    },
    {
     "name": "stderr",
     "output_type": "stream",
     "text": [
      "100%|██████████| 95/95 [00:00<00:00, 16278.24it/s]\n"
     ]
    },
    {
     "name": "stdout",
     "output_type": "stream",
     "text": [
      "Finished mapping in 0.007302284240722656 seconds.\n"
     ]
    },
    {
     "name": "stderr",
     "output_type": "stream",
     "text": [
      "100%|██████████| 95/95 [00:00<00:00, 16300.22it/s]\n"
     ]
    },
    {
     "name": "stdout",
     "output_type": "stream",
     "text": [
      "Finished mapping in 0.0075070858001708984 seconds.\n"
     ]
    },
    {
     "name": "stderr",
     "output_type": "stream",
     "text": [
      "100%|██████████| 95/95 [00:00<00:00, 16326.94it/s]\n"
     ]
    },
    {
     "name": "stdout",
     "output_type": "stream",
     "text": [
      "Finished mapping in 0.007448434829711914 seconds.\n"
     ]
    },
    {
     "name": "stderr",
     "output_type": "stream",
     "text": [
      "100%|██████████| 95/95 [00:00<00:00, 16267.61it/s]\n"
     ]
    },
    {
     "name": "stdout",
     "output_type": "stream",
     "text": [
      "Finished mapping in 0.007456779479980469 seconds.\n"
     ]
    },
    {
     "name": "stderr",
     "output_type": "stream",
     "text": [
      "100%|██████████| 95/95 [00:00<00:00, 15889.42it/s]\n"
     ]
    },
    {
     "name": "stdout",
     "output_type": "stream",
     "text": [
      "Finished mapping in 0.0074465274810791016 seconds.\n"
     ]
    },
    {
     "name": "stderr",
     "output_type": "stream",
     "text": [
      "100%|██████████| 95/95 [00:00<00:00, 15772.43it/s]\n"
     ]
    },
    {
     "name": "stdout",
     "output_type": "stream",
     "text": [
      "Finished mapping in 0.007621288299560547 seconds.\n"
     ]
    },
    {
     "name": "stderr",
     "output_type": "stream",
     "text": [
      "100%|██████████| 95/95 [00:00<00:00, 16556.92it/s]\n"
     ]
    },
    {
     "name": "stdout",
     "output_type": "stream",
     "text": [
      "Finished mapping in 0.007228374481201172 seconds.\n"
     ]
    },
    {
     "name": "stderr",
     "output_type": "stream",
     "text": [
      "100%|██████████| 95/95 [00:00<00:00, 15474.73it/s]\n"
     ]
    },
    {
     "name": "stdout",
     "output_type": "stream",
     "text": [
      "Finished mapping in 0.009176254272460938 seconds.\n"
     ]
    },
    {
     "name": "stderr",
     "output_type": "stream",
     "text": [
      "100%|██████████| 95/95 [00:00<00:00, 15838.89it/s]\n"
     ]
    },
    {
     "name": "stdout",
     "output_type": "stream",
     "text": [
      "Finished mapping in 0.007594585418701172 seconds.\n"
     ]
    },
    {
     "name": "stderr",
     "output_type": "stream",
     "text": [
      "100%|██████████| 95/95 [00:00<00:00, 16626.01it/s]\n"
     ]
    },
    {
     "name": "stdout",
     "output_type": "stream",
     "text": [
      "Finished mapping in 0.007224082946777344 seconds.\n"
     ]
    },
    {
     "name": "stderr",
     "output_type": "stream",
     "text": [
      "100%|██████████| 95/95 [00:00<00:00, 15849.60it/s]\n"
     ]
    },
    {
     "name": "stdout",
     "output_type": "stream",
     "text": [
      "Finished mapping in 0.008053779602050781 seconds.\n"
     ]
    },
    {
     "name": "stderr",
     "output_type": "stream",
     "text": [
      "100%|██████████| 95/95 [00:00<00:00, 16434.68it/s]\n"
     ]
    },
    {
     "name": "stdout",
     "output_type": "stream",
     "text": [
      "Finished mapping in 0.0073702335357666016 seconds.\n"
     ]
    },
    {
     "name": "stderr",
     "output_type": "stream",
     "text": [
      "100%|██████████| 95/95 [00:00<00:00, 15550.83it/s]\n"
     ]
    },
    {
     "name": "stdout",
     "output_type": "stream",
     "text": [
      "Finished mapping in 0.008348226547241211 seconds.\n"
     ]
    },
    {
     "name": "stderr",
     "output_type": "stream",
     "text": [
      "100%|██████████| 95/95 [00:00<00:00, 16039.08it/s]\n"
     ]
    },
    {
     "name": "stdout",
     "output_type": "stream",
     "text": [
      "Finished mapping in 0.007472515106201172 seconds.\n"
     ]
    },
    {
     "name": "stderr",
     "output_type": "stream",
     "text": [
      "100%|██████████| 95/95 [00:00<00:00, 15611.76it/s]\n"
     ]
    },
    {
     "name": "stdout",
     "output_type": "stream",
     "text": [
      "Finished mapping in 0.007929563522338867 seconds.\n"
     ]
    },
    {
     "name": "stderr",
     "output_type": "stream",
     "text": [
      "100%|██████████| 95/95 [00:00<00:00, 15937.08it/s]\n"
     ]
    },
    {
     "name": "stdout",
     "output_type": "stream",
     "text": [
      "Finished mapping in 0.007512092590332031 seconds.\n"
     ]
    },
    {
     "name": "stderr",
     "output_type": "stream",
     "text": [
      "100%|██████████| 95/95 [00:00<00:00, 14909.59it/s]\n"
     ]
    },
    {
     "name": "stdout",
     "output_type": "stream",
     "text": [
      "Finished mapping in 0.008109569549560547 seconds.\n"
     ]
    },
    {
     "name": "stderr",
     "output_type": "stream",
     "text": [
      "100%|██████████| 95/95 [00:00<00:00, 13703.10it/s]\n"
     ]
    },
    {
     "name": "stdout",
     "output_type": "stream",
     "text": [
      "Finished mapping in 0.01050877571105957 seconds.\n"
     ]
    },
    {
     "name": "stderr",
     "output_type": "stream",
     "text": [
      "100%|██████████| 95/95 [00:00<00:00, 3510.00it/s]\n"
     ]
    },
    {
     "name": "stdout",
     "output_type": "stream",
     "text": [
      "Finished mapping in 0.03308534622192383 seconds.\n"
     ]
    },
    {
     "name": "stderr",
     "output_type": "stream",
     "text": [
      "100%|██████████| 95/95 [00:00<00:00, 12042.03it/s]\n"
     ]
    },
    {
     "name": "stdout",
     "output_type": "stream",
     "text": [
      "Finished mapping in 0.012013435363769531 seconds.\n"
     ]
    },
    {
     "name": "stderr",
     "output_type": "stream",
     "text": [
      "100%|██████████| 95/95 [00:00<00:00, 14184.57it/s]\n"
     ]
    },
    {
     "name": "stdout",
     "output_type": "stream",
     "text": [
      "Finished mapping in 0.009401082992553711 seconds.\n"
     ]
    },
    {
     "name": "stderr",
     "output_type": "stream",
     "text": [
      "100%|██████████| 95/95 [00:00<00:00, 16416.40it/s]\n"
     ]
    },
    {
     "name": "stdout",
     "output_type": "stream",
     "text": [
      "Finished mapping in 0.007434844970703125 seconds.\n"
     ]
    },
    {
     "name": "stderr",
     "output_type": "stream",
     "text": [
      "100%|██████████| 95/95 [00:00<00:00, 16059.77it/s]\n"
     ]
    },
    {
     "name": "stdout",
     "output_type": "stream",
     "text": [
      "Finished mapping in 0.0076177120208740234 seconds.\n"
     ]
    },
    {
     "name": "stderr",
     "output_type": "stream",
     "text": [
      "100%|██████████| 95/95 [00:00<00:00, 15697.25it/s]\n"
     ]
    },
    {
     "name": "stdout",
     "output_type": "stream",
     "text": [
      "Finished mapping in 0.0076487064361572266 seconds.\n"
     ]
    },
    {
     "name": "stderr",
     "output_type": "stream",
     "text": [
      "100%|██████████| 95/95 [00:00<00:00, 16629.48it/s]\n"
     ]
    },
    {
     "name": "stdout",
     "output_type": "stream",
     "text": [
      "Finished mapping in 0.007286787033081055 seconds.\n"
     ]
    },
    {
     "name": "stderr",
     "output_type": "stream",
     "text": [
      "100%|██████████| 95/95 [00:00<00:00, 16054.59it/s]\n"
     ]
    },
    {
     "name": "stdout",
     "output_type": "stream",
     "text": [
      "Finished mapping in 0.0075817108154296875 seconds.\n"
     ]
    },
    {
     "name": "stderr",
     "output_type": "stream",
     "text": [
      "100%|██████████| 95/95 [00:00<00:00, 16245.06it/s]\n"
     ]
    },
    {
     "name": "stdout",
     "output_type": "stream",
     "text": [
      "Finished mapping in 0.00747227668762207 seconds.\n"
     ]
    },
    {
     "name": "stderr",
     "output_type": "stream",
     "text": [
      "100%|██████████| 95/95 [00:00<00:00, 15080.57it/s]\n"
     ]
    },
    {
     "name": "stdout",
     "output_type": "stream",
     "text": [
      "Finished mapping in 0.008161544799804688 seconds.\n"
     ]
    },
    {
     "name": "stderr",
     "output_type": "stream",
     "text": [
      "100%|██████████| 95/95 [00:00<00:00, 16393.44it/s]\n"
     ]
    },
    {
     "name": "stdout",
     "output_type": "stream",
     "text": [
      "Finished mapping in 0.007670164108276367 seconds.\n"
     ]
    },
    {
     "name": "stderr",
     "output_type": "stream",
     "text": [
      "100%|██████████| 95/95 [00:00<00:00, 15534.46it/s]\n"
     ]
    },
    {
     "name": "stdout",
     "output_type": "stream",
     "text": [
      "Finished mapping in 0.0077686309814453125 seconds.\n"
     ]
    },
    {
     "name": "stderr",
     "output_type": "stream",
     "text": [
      "100%|██████████| 95/95 [00:00<00:00, 16345.69it/s]\n"
     ]
    },
    {
     "name": "stdout",
     "output_type": "stream",
     "text": [
      "Finished mapping in 0.0074427127838134766 seconds.\n"
     ]
    },
    {
     "name": "stderr",
     "output_type": "stream",
     "text": [
      "100%|██████████| 95/95 [00:00<00:00, 8932.05it/s]\n"
     ]
    },
    {
     "name": "stdout",
     "output_type": "stream",
     "text": [
      "Finished mapping in 0.012432098388671875 seconds.\n"
     ]
    },
    {
     "name": "stderr",
     "output_type": "stream",
     "text": [
      "100%|██████████| 95/95 [00:00<00:00, 8301.75it/s]\n"
     ]
    },
    {
     "name": "stdout",
     "output_type": "stream",
     "text": [
      "Finished mapping in 0.015608549118041992 seconds.\n"
     ]
    },
    {
     "name": "stderr",
     "output_type": "stream",
     "text": [
      "100%|██████████| 95/95 [00:00<00:00, 12400.69it/s]\n"
     ]
    },
    {
     "name": "stdout",
     "output_type": "stream",
     "text": [
      "Finished mapping in 0.011312723159790039 seconds.\n"
     ]
    },
    {
     "name": "stderr",
     "output_type": "stream",
     "text": [
      "100%|██████████| 95/95 [00:00<00:00, 12463.91it/s]"
     ]
    },
    {
     "name": "stdout",
     "output_type": "stream",
     "text": [
      "Finished mapping in 0.010452985763549805 seconds.\n"
     ]
    },
    {
     "name": "stderr",
     "output_type": "stream",
     "text": [
      "\n"
     ]
    }
   ],
   "source": [
    "rxn_scores = {}\n",
    "for sample in raw_count.columns:\n",
    "    gene_data = GeneData(\n",
    "        data=raw_count[sample],\n",
    "        data_transform=lambda x: np.log2(x + 1),\n",
    "        absent_expression=0,\n",
    "    )\n",
    "    p_textbook.add_gene_data(\n",
    "        name_or_prefix=sample,\n",
    "        data=gene_data,\n",
    "        or_operation=\"nanmax\",\n",
    "        and_operation=\"nanmin\",\n",
    "        threshold=-np.inf,\n",
    "        absent_value=-np.inf,\n",
    "    )\n",
    "\n",
    "    rxn_scores[sample] = p_textbook.gene_data[sample].rxn_scores"
   ]
  },
  {
   "cell_type": "code",
   "execution_count": 5,
   "id": "ed01652e",
   "metadata": {},
   "outputs": [
    {
     "data": {
      "text/html": [
       "<div>\n",
       "<style scoped>\n",
       "    .dataframe tbody tr th:only-of-type {\n",
       "        vertical-align: middle;\n",
       "    }\n",
       "\n",
       "    .dataframe tbody tr th {\n",
       "        vertical-align: top;\n",
       "    }\n",
       "\n",
       "    .dataframe thead th {\n",
       "        text-align: right;\n",
       "    }\n",
       "</style>\n",
       "<table border=\"1\" class=\"dataframe\">\n",
       "  <thead>\n",
       "    <tr style=\"text-align: right;\">\n",
       "      <th></th>\n",
       "      <th>WT_M9-glycerol-r1</th>\n",
       "      <th>WT_M9-glycerol-r2</th>\n",
       "      <th>u-ETS-1H_M9-glycerol-r1</th>\n",
       "      <th>u-ETS-1H_M9-glycerol-r2</th>\n",
       "      <th>u-ETS-2H_M9-glycerol-r1</th>\n",
       "      <th>u-ETS-2H_M9-glycerol-r2</th>\n",
       "      <th>u-ETS-3H_M9-glycerol -1</th>\n",
       "      <th>u-ETS-3H_M9-glycerol -2</th>\n",
       "      <th>u-ETS-4H_M9-glycerol-r1</th>\n",
       "      <th>u-ETS-4H_M9-glycerol-r2</th>\n",
       "      <th>...</th>\n",
       "      <th>SMOS-A_M9-succinate-r1</th>\n",
       "      <th>SMOS-A_M9-succinate-r2</th>\n",
       "      <th>e-Suc-ETS-1H-A_M9-succinate-r1</th>\n",
       "      <th>e-Suc-ETS-1H-A_M9-succinate-r2</th>\n",
       "      <th>e-Suc-ETS-2H-A_M9-succinate-r1</th>\n",
       "      <th>e-Suc-ETS-2H-A_M9-succinate-r2</th>\n",
       "      <th>e-Suc-ETS-3H-A_M9-succinate-r1</th>\n",
       "      <th>e-Suc-ETS-3H-A_M9-succinate-r2</th>\n",
       "      <th>e-Suc-ETS-4H-A_M9-succinate-r1</th>\n",
       "      <th>e-Suc-ETS-4H-A_M9-succinate-r2</th>\n",
       "    </tr>\n",
       "  </thead>\n",
       "  <tbody>\n",
       "    <tr>\n",
       "      <th>ACALD</th>\n",
       "      <td>9.900128</td>\n",
       "      <td>9.935146</td>\n",
       "      <td>9.814510</td>\n",
       "      <td>11.053343</td>\n",
       "      <td>10.150890</td>\n",
       "      <td>10.327460</td>\n",
       "      <td>11.067143</td>\n",
       "      <td>10.845199</td>\n",
       "      <td>10.993799</td>\n",
       "      <td>10.863928</td>\n",
       "      <td>...</td>\n",
       "      <td>9.113849</td>\n",
       "      <td>9.311071</td>\n",
       "      <td>8.727840</td>\n",
       "      <td>8.050462</td>\n",
       "      <td>8.679931</td>\n",
       "      <td>9.210069</td>\n",
       "      <td>9.752530</td>\n",
       "      <td>9.539468</td>\n",
       "      <td>9.575032</td>\n",
       "      <td>9.365228</td>\n",
       "    </tr>\n",
       "    <tr>\n",
       "      <th>ACALDt</th>\n",
       "      <td>NaN</td>\n",
       "      <td>NaN</td>\n",
       "      <td>NaN</td>\n",
       "      <td>NaN</td>\n",
       "      <td>NaN</td>\n",
       "      <td>NaN</td>\n",
       "      <td>NaN</td>\n",
       "      <td>NaN</td>\n",
       "      <td>NaN</td>\n",
       "      <td>NaN</td>\n",
       "      <td>...</td>\n",
       "      <td>NaN</td>\n",
       "      <td>NaN</td>\n",
       "      <td>NaN</td>\n",
       "      <td>NaN</td>\n",
       "      <td>NaN</td>\n",
       "      <td>NaN</td>\n",
       "      <td>NaN</td>\n",
       "      <td>NaN</td>\n",
       "      <td>NaN</td>\n",
       "      <td>NaN</td>\n",
       "    </tr>\n",
       "    <tr>\n",
       "      <th>ACKr</th>\n",
       "      <td>8.383695</td>\n",
       "      <td>8.409011</td>\n",
       "      <td>9.114158</td>\n",
       "      <td>10.249079</td>\n",
       "      <td>8.357923</td>\n",
       "      <td>8.431299</td>\n",
       "      <td>9.583119</td>\n",
       "      <td>9.540219</td>\n",
       "      <td>9.867344</td>\n",
       "      <td>9.762048</td>\n",
       "      <td>...</td>\n",
       "      <td>8.870076</td>\n",
       "      <td>9.201345</td>\n",
       "      <td>9.194469</td>\n",
       "      <td>8.775772</td>\n",
       "      <td>7.524495</td>\n",
       "      <td>7.979119</td>\n",
       "      <td>8.751541</td>\n",
       "      <td>8.408303</td>\n",
       "      <td>9.167442</td>\n",
       "      <td>8.990611</td>\n",
       "    </tr>\n",
       "    <tr>\n",
       "      <th>ACONTa</th>\n",
       "      <td>11.809894</td>\n",
       "      <td>11.836643</td>\n",
       "      <td>9.298450</td>\n",
       "      <td>10.152963</td>\n",
       "      <td>12.024525</td>\n",
       "      <td>12.057631</td>\n",
       "      <td>10.990629</td>\n",
       "      <td>10.539911</td>\n",
       "      <td>11.765361</td>\n",
       "      <td>11.720013</td>\n",
       "      <td>...</td>\n",
       "      <td>10.716109</td>\n",
       "      <td>9.649967</td>\n",
       "      <td>10.030350</td>\n",
       "      <td>9.231681</td>\n",
       "      <td>11.049414</td>\n",
       "      <td>11.117102</td>\n",
       "      <td>10.393028</td>\n",
       "      <td>10.206680</td>\n",
       "      <td>12.175244</td>\n",
       "      <td>12.045115</td>\n",
       "    </tr>\n",
       "    <tr>\n",
       "      <th>ACONTb</th>\n",
       "      <td>11.809894</td>\n",
       "      <td>11.836643</td>\n",
       "      <td>9.298450</td>\n",
       "      <td>10.152963</td>\n",
       "      <td>12.024525</td>\n",
       "      <td>12.057631</td>\n",
       "      <td>10.990629</td>\n",
       "      <td>10.539911</td>\n",
       "      <td>11.765361</td>\n",
       "      <td>11.720013</td>\n",
       "      <td>...</td>\n",
       "      <td>10.716109</td>\n",
       "      <td>9.649967</td>\n",
       "      <td>10.030350</td>\n",
       "      <td>9.231681</td>\n",
       "      <td>11.049414</td>\n",
       "      <td>11.117102</td>\n",
       "      <td>10.393028</td>\n",
       "      <td>10.206680</td>\n",
       "      <td>12.175244</td>\n",
       "      <td>12.045115</td>\n",
       "    </tr>\n",
       "    <tr>\n",
       "      <th>...</th>\n",
       "      <td>...</td>\n",
       "      <td>...</td>\n",
       "      <td>...</td>\n",
       "      <td>...</td>\n",
       "      <td>...</td>\n",
       "      <td>...</td>\n",
       "      <td>...</td>\n",
       "      <td>...</td>\n",
       "      <td>...</td>\n",
       "      <td>...</td>\n",
       "      <td>...</td>\n",
       "      <td>...</td>\n",
       "      <td>...</td>\n",
       "      <td>...</td>\n",
       "      <td>...</td>\n",
       "      <td>...</td>\n",
       "      <td>...</td>\n",
       "      <td>...</td>\n",
       "      <td>...</td>\n",
       "      <td>...</td>\n",
       "      <td>...</td>\n",
       "    </tr>\n",
       "    <tr>\n",
       "      <th>TALA</th>\n",
       "      <td>10.895711</td>\n",
       "      <td>10.956014</td>\n",
       "      <td>10.276429</td>\n",
       "      <td>10.986914</td>\n",
       "      <td>10.522225</td>\n",
       "      <td>10.597573</td>\n",
       "      <td>10.775028</td>\n",
       "      <td>10.622904</td>\n",
       "      <td>10.425806</td>\n",
       "      <td>10.354267</td>\n",
       "      <td>...</td>\n",
       "      <td>10.871293</td>\n",
       "      <td>10.877540</td>\n",
       "      <td>9.424532</td>\n",
       "      <td>9.279400</td>\n",
       "      <td>10.379510</td>\n",
       "      <td>10.670258</td>\n",
       "      <td>10.616515</td>\n",
       "      <td>10.427483</td>\n",
       "      <td>10.805950</td>\n",
       "      <td>10.810903</td>\n",
       "    </tr>\n",
       "    <tr>\n",
       "      <th>THD2</th>\n",
       "      <td>10.779859</td>\n",
       "      <td>10.758752</td>\n",
       "      <td>9.073923</td>\n",
       "      <td>9.248658</td>\n",
       "      <td>10.491322</td>\n",
       "      <td>10.517187</td>\n",
       "      <td>9.676694</td>\n",
       "      <td>9.636340</td>\n",
       "      <td>8.696724</td>\n",
       "      <td>8.787604</td>\n",
       "      <td>...</td>\n",
       "      <td>8.955122</td>\n",
       "      <td>7.908661</td>\n",
       "      <td>7.994533</td>\n",
       "      <td>7.595875</td>\n",
       "      <td>8.196021</td>\n",
       "      <td>7.943939</td>\n",
       "      <td>8.124174</td>\n",
       "      <td>8.173847</td>\n",
       "      <td>10.377073</td>\n",
       "      <td>10.516399</td>\n",
       "    </tr>\n",
       "    <tr>\n",
       "      <th>TKT1</th>\n",
       "      <td>10.322948</td>\n",
       "      <td>10.347145</td>\n",
       "      <td>9.191413</td>\n",
       "      <td>10.230755</td>\n",
       "      <td>10.255244</td>\n",
       "      <td>10.304432</td>\n",
       "      <td>10.286578</td>\n",
       "      <td>10.247466</td>\n",
       "      <td>10.072407</td>\n",
       "      <td>9.916333</td>\n",
       "      <td>...</td>\n",
       "      <td>10.166465</td>\n",
       "      <td>9.743072</td>\n",
       "      <td>9.041682</td>\n",
       "      <td>8.280467</td>\n",
       "      <td>9.091795</td>\n",
       "      <td>9.368019</td>\n",
       "      <td>9.530813</td>\n",
       "      <td>9.236504</td>\n",
       "      <td>10.643732</td>\n",
       "      <td>10.422535</td>\n",
       "    </tr>\n",
       "    <tr>\n",
       "      <th>TKT2</th>\n",
       "      <td>10.322948</td>\n",
       "      <td>10.347145</td>\n",
       "      <td>9.191413</td>\n",
       "      <td>10.230755</td>\n",
       "      <td>10.255244</td>\n",
       "      <td>10.304432</td>\n",
       "      <td>10.286578</td>\n",
       "      <td>10.247466</td>\n",
       "      <td>10.072407</td>\n",
       "      <td>9.916333</td>\n",
       "      <td>...</td>\n",
       "      <td>10.166465</td>\n",
       "      <td>9.743072</td>\n",
       "      <td>9.041682</td>\n",
       "      <td>8.280467</td>\n",
       "      <td>9.091795</td>\n",
       "      <td>9.368019</td>\n",
       "      <td>9.530813</td>\n",
       "      <td>9.236504</td>\n",
       "      <td>10.643732</td>\n",
       "      <td>10.422535</td>\n",
       "    </tr>\n",
       "    <tr>\n",
       "      <th>TPI</th>\n",
       "      <td>10.024282</td>\n",
       "      <td>10.004893</td>\n",
       "      <td>9.225718</td>\n",
       "      <td>10.050297</td>\n",
       "      <td>10.197225</td>\n",
       "      <td>10.243009</td>\n",
       "      <td>9.653935</td>\n",
       "      <td>9.544977</td>\n",
       "      <td>9.653643</td>\n",
       "      <td>9.504730</td>\n",
       "      <td>...</td>\n",
       "      <td>9.823733</td>\n",
       "      <td>9.900237</td>\n",
       "      <td>9.290912</td>\n",
       "      <td>9.073928</td>\n",
       "      <td>8.601984</td>\n",
       "      <td>9.020387</td>\n",
       "      <td>8.783959</td>\n",
       "      <td>8.513780</td>\n",
       "      <td>10.118594</td>\n",
       "      <td>10.367278</td>\n",
       "    </tr>\n",
       "  </tbody>\n",
       "</table>\n",
       "<p>95 rows × 40 columns</p>\n",
       "</div>"
      ],
      "text/plain": [
       "        WT_M9-glycerol-r1  WT_M9-glycerol-r2  u-ETS-1H_M9-glycerol-r1  \\\n",
       "ACALD            9.900128           9.935146                 9.814510   \n",
       "ACALDt                NaN                NaN                      NaN   \n",
       "ACKr             8.383695           8.409011                 9.114158   \n",
       "ACONTa          11.809894          11.836643                 9.298450   \n",
       "ACONTb          11.809894          11.836643                 9.298450   \n",
       "...                   ...                ...                      ...   \n",
       "TALA            10.895711          10.956014                10.276429   \n",
       "THD2            10.779859          10.758752                 9.073923   \n",
       "TKT1            10.322948          10.347145                 9.191413   \n",
       "TKT2            10.322948          10.347145                 9.191413   \n",
       "TPI             10.024282          10.004893                 9.225718   \n",
       "\n",
       "        u-ETS-1H_M9-glycerol-r2  u-ETS-2H_M9-glycerol-r1  \\\n",
       "ACALD                 11.053343                10.150890   \n",
       "ACALDt                      NaN                      NaN   \n",
       "ACKr                  10.249079                 8.357923   \n",
       "ACONTa                10.152963                12.024525   \n",
       "ACONTb                10.152963                12.024525   \n",
       "...                         ...                      ...   \n",
       "TALA                  10.986914                10.522225   \n",
       "THD2                   9.248658                10.491322   \n",
       "TKT1                  10.230755                10.255244   \n",
       "TKT2                  10.230755                10.255244   \n",
       "TPI                   10.050297                10.197225   \n",
       "\n",
       "        u-ETS-2H_M9-glycerol-r2  u-ETS-3H_M9-glycerol -1  \\\n",
       "ACALD                 10.327460                11.067143   \n",
       "ACALDt                      NaN                      NaN   \n",
       "ACKr                   8.431299                 9.583119   \n",
       "ACONTa                12.057631                10.990629   \n",
       "ACONTb                12.057631                10.990629   \n",
       "...                         ...                      ...   \n",
       "TALA                  10.597573                10.775028   \n",
       "THD2                  10.517187                 9.676694   \n",
       "TKT1                  10.304432                10.286578   \n",
       "TKT2                  10.304432                10.286578   \n",
       "TPI                   10.243009                 9.653935   \n",
       "\n",
       "        u-ETS-3H_M9-glycerol -2  u-ETS-4H_M9-glycerol-r1  \\\n",
       "ACALD                 10.845199                10.993799   \n",
       "ACALDt                      NaN                      NaN   \n",
       "ACKr                   9.540219                 9.867344   \n",
       "ACONTa                10.539911                11.765361   \n",
       "ACONTb                10.539911                11.765361   \n",
       "...                         ...                      ...   \n",
       "TALA                  10.622904                10.425806   \n",
       "THD2                   9.636340                 8.696724   \n",
       "TKT1                  10.247466                10.072407   \n",
       "TKT2                  10.247466                10.072407   \n",
       "TPI                    9.544977                 9.653643   \n",
       "\n",
       "        u-ETS-4H_M9-glycerol-r2  ...  SMOS-A_M9-succinate-r1  \\\n",
       "ACALD                 10.863928  ...                9.113849   \n",
       "ACALDt                      NaN  ...                     NaN   \n",
       "ACKr                   9.762048  ...                8.870076   \n",
       "ACONTa                11.720013  ...               10.716109   \n",
       "ACONTb                11.720013  ...               10.716109   \n",
       "...                         ...  ...                     ...   \n",
       "TALA                  10.354267  ...               10.871293   \n",
       "THD2                   8.787604  ...                8.955122   \n",
       "TKT1                   9.916333  ...               10.166465   \n",
       "TKT2                   9.916333  ...               10.166465   \n",
       "TPI                    9.504730  ...                9.823733   \n",
       "\n",
       "        SMOS-A_M9-succinate-r2  e-Suc-ETS-1H-A_M9-succinate-r1  \\\n",
       "ACALD                 9.311071                        8.727840   \n",
       "ACALDt                     NaN                             NaN   \n",
       "ACKr                  9.201345                        9.194469   \n",
       "ACONTa                9.649967                       10.030350   \n",
       "ACONTb                9.649967                       10.030350   \n",
       "...                        ...                             ...   \n",
       "TALA                 10.877540                        9.424532   \n",
       "THD2                  7.908661                        7.994533   \n",
       "TKT1                  9.743072                        9.041682   \n",
       "TKT2                  9.743072                        9.041682   \n",
       "TPI                   9.900237                        9.290912   \n",
       "\n",
       "        e-Suc-ETS-1H-A_M9-succinate-r2  e-Suc-ETS-2H-A_M9-succinate-r1  \\\n",
       "ACALD                         8.050462                        8.679931   \n",
       "ACALDt                             NaN                             NaN   \n",
       "ACKr                          8.775772                        7.524495   \n",
       "ACONTa                        9.231681                       11.049414   \n",
       "ACONTb                        9.231681                       11.049414   \n",
       "...                                ...                             ...   \n",
       "TALA                          9.279400                       10.379510   \n",
       "THD2                          7.595875                        8.196021   \n",
       "TKT1                          8.280467                        9.091795   \n",
       "TKT2                          8.280467                        9.091795   \n",
       "TPI                           9.073928                        8.601984   \n",
       "\n",
       "        e-Suc-ETS-2H-A_M9-succinate-r2  e-Suc-ETS-3H-A_M9-succinate-r1  \\\n",
       "ACALD                         9.210069                        9.752530   \n",
       "ACALDt                             NaN                             NaN   \n",
       "ACKr                          7.979119                        8.751541   \n",
       "ACONTa                       11.117102                       10.393028   \n",
       "ACONTb                       11.117102                       10.393028   \n",
       "...                                ...                             ...   \n",
       "TALA                         10.670258                       10.616515   \n",
       "THD2                          7.943939                        8.124174   \n",
       "TKT1                          9.368019                        9.530813   \n",
       "TKT2                          9.368019                        9.530813   \n",
       "TPI                           9.020387                        8.783959   \n",
       "\n",
       "        e-Suc-ETS-3H-A_M9-succinate-r2  e-Suc-ETS-4H-A_M9-succinate-r1  \\\n",
       "ACALD                         9.539468                        9.575032   \n",
       "ACALDt                             NaN                             NaN   \n",
       "ACKr                          8.408303                        9.167442   \n",
       "ACONTa                       10.206680                       12.175244   \n",
       "ACONTb                       10.206680                       12.175244   \n",
       "...                                ...                             ...   \n",
       "TALA                         10.427483                       10.805950   \n",
       "THD2                          8.173847                       10.377073   \n",
       "TKT1                          9.236504                       10.643732   \n",
       "TKT2                          9.236504                       10.643732   \n",
       "TPI                           8.513780                       10.118594   \n",
       "\n",
       "        e-Suc-ETS-4H-A_M9-succinate-r2  \n",
       "ACALD                         9.365228  \n",
       "ACALDt                             NaN  \n",
       "ACKr                          8.990611  \n",
       "ACONTa                       12.045115  \n",
       "ACONTb                       12.045115  \n",
       "...                                ...  \n",
       "TALA                         10.810903  \n",
       "THD2                         10.516399  \n",
       "TKT1                         10.422535  \n",
       "TKT2                         10.422535  \n",
       "TPI                          10.367278  \n",
       "\n",
       "[95 rows x 40 columns]"
      ]
     },
     "execution_count": 5,
     "metadata": {},
     "output_type": "execute_result"
    }
   ],
   "source": [
    "rxn_scores_df = pd.DataFrame.from_dict(rxn_scores)\n",
    "rxn_scores_df"
   ]
  },
  {
   "cell_type": "markdown",
   "id": "40eed99f",
   "metadata": {},
   "source": [
    "# Q5"
   ]
  },
  {
   "cell_type": "code",
   "execution_count": 6,
   "id": "29c04229",
   "metadata": {},
   "outputs": [
    {
     "name": "stdout",
     "output_type": "stream",
     "text": [
      "transform: True\n",
      "transform: True\n",
      "transform: True\n",
      "transform: True\n",
      "transform: True\n",
      "transform: True\n",
      "transform: True\n",
      "transform: True\n",
      "transform: True\n",
      "transform: True\n",
      "transform: True\n",
      "transform: True\n",
      "transform: True\n",
      "transform: True\n",
      "transform: True\n",
      "transform: True\n",
      "transform: True\n",
      "transform: True\n",
      "transform: True\n",
      "transform: True\n",
      "transform: True\n",
      "transform: True\n",
      "transform: True\n",
      "transform: True\n",
      "transform: True\n",
      "transform: True\n",
      "transform: True\n",
      "transform: True\n",
      "transform: True\n",
      "transform: True\n",
      "transform: True\n",
      "transform: True\n",
      "transform: True\n",
      "transform: True\n",
      "transform: True\n",
      "transform: True\n",
      "transform: True\n",
      "transform: True\n",
      "transform: True\n",
      "transform: True\n"
     ]
    }
   ],
   "source": [
    "th_90 = []\n",
    "for sample in raw_count.columns:\n",
    "    gene_data = GeneData(\n",
    "        data=raw_count[sample],\n",
    "        data_transform=lambda x: np.log2(x + 1),\n",
    "        absent_expression=0,\n",
    "    )\n",
    "    p_threshold = gene_data.get_threshold(\"percentile\", p=[90])\n",
    "    # th_90.append(p_threshold.threshold_series[\"p=90\"])\n",
    "    th_90.append([sample, p_threshold.exp_th])\n"
   ]
  },
  {
   "cell_type": "code",
   "execution_count": 7,
   "id": "32ddcb2a",
   "metadata": {},
   "outputs": [
    {
     "name": "stdout",
     "output_type": "stream",
     "text": [
      "                                       1\n",
      "0                                       \n",
      "WT_M9-glycerol-r1               8.688831\n",
      "WT_M9-glycerol-r2               8.690915\n",
      "u-ETS-1H_M9-glycerol-r1         8.825239\n",
      "u-ETS-1H_M9-glycerol-r2         8.923863\n",
      "u-ETS-2H_M9-glycerol-r1         8.757602\n",
      "u-ETS-2H_M9-glycerol-r2         8.655544\n",
      "u-ETS-3H_M9-glycerol -1         8.867612\n",
      "u-ETS-3H_M9-glycerol -2         8.944926\n",
      "u-ETS-4H_M9-glycerol-r1         8.920378\n",
      "u-ETS-4H_M9-glycerol-r2         8.894956\n",
      "GlyMOS-A_M9-glycerol-r1         8.841393\n",
      "GlyMOS-A_M9-glycerol-r2         8.932843\n",
      "e-Gly-ETS-1H-A_M9-glycerol-r1   8.762081\n",
      "e-Gly-ETS-1H-A_M9-glycerol-r2   8.766575\n",
      "e-Gly-ETS-2H-A_M9-glycerol-r1   8.846630\n",
      "e-Gly-ETS-2H-A_M9-glycerol-r2   8.958224\n",
      "e-Gly-ETS-3H-A_M9-glycerol-r1   8.923998\n",
      "e-Gly-ETS-3H-A_M9-glycerol-r2   8.984522\n",
      "e-Gly-ETS-4H-A_M9-glycerol-r1   8.861065\n",
      "e-Gly-ETS-4H-A_M9-glycerol-r2   8.816263\n",
      "WT_M9-succinate-r1              8.730704\n",
      "WT_M9-succinate-r2              8.555899\n",
      "u-ETS-1H_M9-succinate-r1        8.685106\n",
      "u-ETS-1H_M9-succinate-r2        8.709728\n",
      "u-ETS-2H_M9-succinate-r1        8.719746\n",
      "u-ETS-2H_M9-succinate-r2        8.672272\n",
      "u-ETS-3H_M9-succinate-r1        8.582437\n",
      "u-ETS-3H_M9-succinate-r2        8.560190\n",
      "u-ETS-4H_M9-succinate-r1        8.753237\n",
      "u-ETS-4H_M9-succinate-r2        8.751797\n",
      "SMOS-A_M9-succinate-r1          8.887927\n",
      "SMOS-A_M9-succinate-r2          8.859414\n",
      "e-Suc-ETS-1H-A_M9-succinate-r1  8.522832\n",
      "e-Suc-ETS-1H-A_M9-succinate-r2  8.461855\n",
      "e-Suc-ETS-2H-A_M9-succinate-r1  8.768303\n",
      "e-Suc-ETS-2H-A_M9-succinate-r2  8.749714\n",
      "e-Suc-ETS-3H-A_M9-succinate-r1  8.867291\n",
      "e-Suc-ETS-3H-A_M9-succinate-r2  8.853459\n",
      "e-Suc-ETS-4H-A_M9-succinate-r1  8.682809\n",
      "e-Suc-ETS-4H-A_M9-succinate-r2  8.765457\n"
     ]
    }
   ],
   "source": [
    "th_90_df = pd.DataFrame(th_90).set_index(0)\n",
    "print(th_90_df)"
   ]
  },
  {
   "cell_type": "markdown",
   "id": "e87f3c93",
   "metadata": {},
   "source": [
    "# Q6"
   ]
  },
  {
   "cell_type": "code",
   "execution_count": 8,
   "id": "eef9fd58",
   "metadata": {},
   "outputs": [
    {
     "name": "stdout",
     "output_type": "stream",
     "text": [
      "original obj's optimized value:  Biomass_Ecoli_core    0.699137\n",
      "Name: fluxes, dtype: float64\n",
      "original obj's optimized value:  Biomass_Ecoli_core    0.699137\n",
      "Name: fluxes, dtype: float64\n",
      "original obj's optimized value:  Biomass_Ecoli_core    0.699137\n",
      "Name: fluxes, dtype: float64\n",
      "original obj's optimized value:  Biomass_Ecoli_core    0.699137\n",
      "Name: fluxes, dtype: float64\n",
      "original obj's optimized value:  Biomass_Ecoli_core    0.699137\n",
      "Name: fluxes, dtype: float64\n",
      "original obj's optimized value:  Biomass_Ecoli_core    0.699137\n",
      "Name: fluxes, dtype: float64\n"
     ]
    },
    {
     "name": "stderr",
     "output_type": "stream",
     "text": [
      "c:\\Users\\schen22_ad\\miniconda3\\envs\\MSSB_HW3\\Lib\\site-packages\\pipeGEM\\integration\\continuous\\GIMME.py:63: UserWarning: Boolean Series key will be reindexed to match DataFrame index.\n",
      "  to_remove = set(flux_df[abs(flux_df[\"fluxes\"]).sort_index() <=\n",
      "c:\\Users\\schen22_ad\\miniconda3\\envs\\MSSB_HW3\\Lib\\site-packages\\pipeGEM\\integration\\continuous\\GIMME.py:63: UserWarning: Boolean Series key will be reindexed to match DataFrame index.\n",
      "  to_remove = set(flux_df[abs(flux_df[\"fluxes\"]).sort_index() <=\n",
      "c:\\Users\\schen22_ad\\miniconda3\\envs\\MSSB_HW3\\Lib\\site-packages\\pipeGEM\\integration\\continuous\\GIMME.py:63: UserWarning: Boolean Series key will be reindexed to match DataFrame index.\n",
      "  to_remove = set(flux_df[abs(flux_df[\"fluxes\"]).sort_index() <=\n",
      "c:\\Users\\schen22_ad\\miniconda3\\envs\\MSSB_HW3\\Lib\\site-packages\\pipeGEM\\integration\\continuous\\GIMME.py:63: UserWarning: Boolean Series key will be reindexed to match DataFrame index.\n",
      "  to_remove = set(flux_df[abs(flux_df[\"fluxes\"]).sort_index() <=\n",
      "c:\\Users\\schen22_ad\\miniconda3\\envs\\MSSB_HW3\\Lib\\site-packages\\pipeGEM\\integration\\continuous\\GIMME.py:63: UserWarning: Boolean Series key will be reindexed to match DataFrame index.\n",
      "  to_remove = set(flux_df[abs(flux_df[\"fluxes\"]).sort_index() <=\n",
      "c:\\Users\\schen22_ad\\miniconda3\\envs\\MSSB_HW3\\Lib\\site-packages\\pipeGEM\\integration\\continuous\\GIMME.py:63: UserWarning: Boolean Series key will be reindexed to match DataFrame index.\n",
      "  to_remove = set(flux_df[abs(flux_df[\"fluxes\"]).sort_index() <=\n",
      "c:\\Users\\schen22_ad\\miniconda3\\envs\\MSSB_HW3\\Lib\\site-packages\\pipeGEM\\integration\\continuous\\GIMME.py:63: UserWarning: Boolean Series key will be reindexed to match DataFrame index.\n",
      "  to_remove = set(flux_df[abs(flux_df[\"fluxes\"]).sort_index() <=\n",
      "c:\\Users\\schen22_ad\\miniconda3\\envs\\MSSB_HW3\\Lib\\site-packages\\pipeGEM\\integration\\continuous\\GIMME.py:63: UserWarning: Boolean Series key will be reindexed to match DataFrame index.\n",
      "  to_remove = set(flux_df[abs(flux_df[\"fluxes\"]).sort_index() <=\n",
      "c:\\Users\\schen22_ad\\miniconda3\\envs\\MSSB_HW3\\Lib\\site-packages\\pipeGEM\\integration\\continuous\\GIMME.py:63: UserWarning: Boolean Series key will be reindexed to match DataFrame index.\n",
      "  to_remove = set(flux_df[abs(flux_df[\"fluxes\"]).sort_index() <=\n",
      "c:\\Users\\schen22_ad\\miniconda3\\envs\\MSSB_HW3\\Lib\\site-packages\\pipeGEM\\integration\\continuous\\GIMME.py:63: UserWarning: Boolean Series key will be reindexed to match DataFrame index.\n",
      "  to_remove = set(flux_df[abs(flux_df[\"fluxes\"]).sort_index() <=\n"
     ]
    },
    {
     "name": "stdout",
     "output_type": "stream",
     "text": [
      "original obj's optimized value:  Biomass_Ecoli_core    0.699137\n",
      "Name: fluxes, dtype: float64\n",
      "original obj's optimized value:  Biomass_Ecoli_core    0.699137\n",
      "Name: fluxes, dtype: float64\n",
      "original obj's optimized value:  Biomass_Ecoli_core    0.699137\n",
      "Name: fluxes, dtype: float64\n",
      "original obj's optimized value:  Biomass_Ecoli_core    0.699137\n",
      "Name: fluxes, dtype: float64\n",
      "original obj's optimized value:  Biomass_Ecoli_core    0.699137\n",
      "Name: fluxes, dtype: float64\n"
     ]
    },
    {
     "name": "stderr",
     "output_type": "stream",
     "text": [
      "c:\\Users\\schen22_ad\\miniconda3\\envs\\MSSB_HW3\\Lib\\site-packages\\pipeGEM\\integration\\continuous\\GIMME.py:63: UserWarning: Boolean Series key will be reindexed to match DataFrame index.\n",
      "  to_remove = set(flux_df[abs(flux_df[\"fluxes\"]).sort_index() <=\n",
      "c:\\Users\\schen22_ad\\miniconda3\\envs\\MSSB_HW3\\Lib\\site-packages\\pipeGEM\\integration\\continuous\\GIMME.py:63: UserWarning: Boolean Series key will be reindexed to match DataFrame index.\n",
      "  to_remove = set(flux_df[abs(flux_df[\"fluxes\"]).sort_index() <=\n",
      "c:\\Users\\schen22_ad\\miniconda3\\envs\\MSSB_HW3\\Lib\\site-packages\\pipeGEM\\integration\\continuous\\GIMME.py:63: UserWarning: Boolean Series key will be reindexed to match DataFrame index.\n",
      "  to_remove = set(flux_df[abs(flux_df[\"fluxes\"]).sort_index() <=\n",
      "c:\\Users\\schen22_ad\\miniconda3\\envs\\MSSB_HW3\\Lib\\site-packages\\pipeGEM\\integration\\continuous\\GIMME.py:63: UserWarning: Boolean Series key will be reindexed to match DataFrame index.\n",
      "  to_remove = set(flux_df[abs(flux_df[\"fluxes\"]).sort_index() <=\n",
      "c:\\Users\\schen22_ad\\miniconda3\\envs\\MSSB_HW3\\Lib\\site-packages\\pipeGEM\\integration\\continuous\\GIMME.py:63: UserWarning: Boolean Series key will be reindexed to match DataFrame index.\n",
      "  to_remove = set(flux_df[abs(flux_df[\"fluxes\"]).sort_index() <=\n",
      "c:\\Users\\schen22_ad\\miniconda3\\envs\\MSSB_HW3\\Lib\\site-packages\\pipeGEM\\integration\\continuous\\GIMME.py:63: UserWarning: Boolean Series key will be reindexed to match DataFrame index.\n",
      "  to_remove = set(flux_df[abs(flux_df[\"fluxes\"]).sort_index() <=\n"
     ]
    },
    {
     "name": "stdout",
     "output_type": "stream",
     "text": [
      "original obj's optimized value:  Biomass_Ecoli_core    0.699137\n",
      "Name: fluxes, dtype: float64\n",
      "original obj's optimized value:  Biomass_Ecoli_core    0.699137\n",
      "Name: fluxes, dtype: float64\n",
      "original obj's optimized value:  Biomass_Ecoli_core    0.699137\n",
      "Name: fluxes, dtype: float64\n",
      "original obj's optimized value:  Biomass_Ecoli_core    0.699137\n",
      "Name: fluxes, dtype: float64\n",
      "original obj's optimized value:  Biomass_Ecoli_core    0.699137\n",
      "Name: fluxes, dtype: float64\n",
      "original obj's optimized value:  Biomass_Ecoli_core    0.699137\n",
      "Name: fluxes, dtype: float64\n"
     ]
    },
    {
     "name": "stderr",
     "output_type": "stream",
     "text": [
      "c:\\Users\\schen22_ad\\miniconda3\\envs\\MSSB_HW3\\Lib\\site-packages\\pipeGEM\\integration\\continuous\\GIMME.py:63: UserWarning: Boolean Series key will be reindexed to match DataFrame index.\n",
      "  to_remove = set(flux_df[abs(flux_df[\"fluxes\"]).sort_index() <=\n",
      "c:\\Users\\schen22_ad\\miniconda3\\envs\\MSSB_HW3\\Lib\\site-packages\\pipeGEM\\integration\\continuous\\GIMME.py:63: UserWarning: Boolean Series key will be reindexed to match DataFrame index.\n",
      "  to_remove = set(flux_df[abs(flux_df[\"fluxes\"]).sort_index() <=\n",
      "c:\\Users\\schen22_ad\\miniconda3\\envs\\MSSB_HW3\\Lib\\site-packages\\pipeGEM\\integration\\continuous\\GIMME.py:63: UserWarning: Boolean Series key will be reindexed to match DataFrame index.\n",
      "  to_remove = set(flux_df[abs(flux_df[\"fluxes\"]).sort_index() <=\n",
      "c:\\Users\\schen22_ad\\miniconda3\\envs\\MSSB_HW3\\Lib\\site-packages\\pipeGEM\\integration\\continuous\\GIMME.py:63: UserWarning: Boolean Series key will be reindexed to match DataFrame index.\n",
      "  to_remove = set(flux_df[abs(flux_df[\"fluxes\"]).sort_index() <=\n",
      "c:\\Users\\schen22_ad\\miniconda3\\envs\\MSSB_HW3\\Lib\\site-packages\\pipeGEM\\integration\\continuous\\GIMME.py:63: UserWarning: Boolean Series key will be reindexed to match DataFrame index.\n",
      "  to_remove = set(flux_df[abs(flux_df[\"fluxes\"]).sort_index() <=\n"
     ]
    },
    {
     "name": "stdout",
     "output_type": "stream",
     "text": [
      "original obj's optimized value:  Biomass_Ecoli_core    0.699137\n",
      "Name: fluxes, dtype: float64\n",
      "original obj's optimized value:  Biomass_Ecoli_core    0.699137\n",
      "Name: fluxes, dtype: float64\n",
      "original obj's optimized value:  Biomass_Ecoli_core    0.699137\n",
      "Name: fluxes, dtype: float64\n",
      "original obj's optimized value:  Biomass_Ecoli_core    0.699137\n",
      "Name: fluxes, dtype: float64\n",
      "original obj's optimized value:  Biomass_Ecoli_core    0.699137\n",
      "Name: fluxes, dtype: float64\n"
     ]
    },
    {
     "name": "stderr",
     "output_type": "stream",
     "text": [
      "c:\\Users\\schen22_ad\\miniconda3\\envs\\MSSB_HW3\\Lib\\site-packages\\pipeGEM\\integration\\continuous\\GIMME.py:63: UserWarning: Boolean Series key will be reindexed to match DataFrame index.\n",
      "  to_remove = set(flux_df[abs(flux_df[\"fluxes\"]).sort_index() <=\n",
      "c:\\Users\\schen22_ad\\miniconda3\\envs\\MSSB_HW3\\Lib\\site-packages\\pipeGEM\\integration\\continuous\\GIMME.py:63: UserWarning: Boolean Series key will be reindexed to match DataFrame index.\n",
      "  to_remove = set(flux_df[abs(flux_df[\"fluxes\"]).sort_index() <=\n",
      "c:\\Users\\schen22_ad\\miniconda3\\envs\\MSSB_HW3\\Lib\\site-packages\\pipeGEM\\integration\\continuous\\GIMME.py:63: UserWarning: Boolean Series key will be reindexed to match DataFrame index.\n",
      "  to_remove = set(flux_df[abs(flux_df[\"fluxes\"]).sort_index() <=\n",
      "c:\\Users\\schen22_ad\\miniconda3\\envs\\MSSB_HW3\\Lib\\site-packages\\pipeGEM\\integration\\continuous\\GIMME.py:63: UserWarning: Boolean Series key will be reindexed to match DataFrame index.\n",
      "  to_remove = set(flux_df[abs(flux_df[\"fluxes\"]).sort_index() <=\n",
      "c:\\Users\\schen22_ad\\miniconda3\\envs\\MSSB_HW3\\Lib\\site-packages\\pipeGEM\\integration\\continuous\\GIMME.py:63: UserWarning: Boolean Series key will be reindexed to match DataFrame index.\n",
      "  to_remove = set(flux_df[abs(flux_df[\"fluxes\"]).sort_index() <=\n"
     ]
    },
    {
     "name": "stdout",
     "output_type": "stream",
     "text": [
      "original obj's optimized value:  Biomass_Ecoli_core    0.699137\n",
      "Name: fluxes, dtype: float64\n",
      "original obj's optimized value:  Biomass_Ecoli_core    0.699137\n",
      "Name: fluxes, dtype: float64\n",
      "original obj's optimized value:  Biomass_Ecoli_core    0.699137\n",
      "Name: fluxes, dtype: float64\n",
      "original obj's optimized value:  Biomass_Ecoli_core    0.699137\n",
      "Name: fluxes, dtype: float64\n",
      "original obj's optimized value:  Biomass_Ecoli_core    0.699137\n",
      "Name: fluxes, dtype: float64\n"
     ]
    },
    {
     "name": "stderr",
     "output_type": "stream",
     "text": [
      "c:\\Users\\schen22_ad\\miniconda3\\envs\\MSSB_HW3\\Lib\\site-packages\\pipeGEM\\integration\\continuous\\GIMME.py:63: UserWarning: Boolean Series key will be reindexed to match DataFrame index.\n",
      "  to_remove = set(flux_df[abs(flux_df[\"fluxes\"]).sort_index() <=\n",
      "c:\\Users\\schen22_ad\\miniconda3\\envs\\MSSB_HW3\\Lib\\site-packages\\pipeGEM\\integration\\continuous\\GIMME.py:63: UserWarning: Boolean Series key will be reindexed to match DataFrame index.\n",
      "  to_remove = set(flux_df[abs(flux_df[\"fluxes\"]).sort_index() <=\n",
      "c:\\Users\\schen22_ad\\miniconda3\\envs\\MSSB_HW3\\Lib\\site-packages\\pipeGEM\\integration\\continuous\\GIMME.py:63: UserWarning: Boolean Series key will be reindexed to match DataFrame index.\n",
      "  to_remove = set(flux_df[abs(flux_df[\"fluxes\"]).sort_index() <=\n",
      "c:\\Users\\schen22_ad\\miniconda3\\envs\\MSSB_HW3\\Lib\\site-packages\\pipeGEM\\integration\\continuous\\GIMME.py:63: UserWarning: Boolean Series key will be reindexed to match DataFrame index.\n",
      "  to_remove = set(flux_df[abs(flux_df[\"fluxes\"]).sort_index() <=\n",
      "c:\\Users\\schen22_ad\\miniconda3\\envs\\MSSB_HW3\\Lib\\site-packages\\pipeGEM\\integration\\continuous\\GIMME.py:63: UserWarning: Boolean Series key will be reindexed to match DataFrame index.\n",
      "  to_remove = set(flux_df[abs(flux_df[\"fluxes\"]).sort_index() <=\n"
     ]
    },
    {
     "name": "stdout",
     "output_type": "stream",
     "text": [
      "original obj's optimized value:  Biomass_Ecoli_core    0.699137\n",
      "Name: fluxes, dtype: float64\n",
      "original obj's optimized value:  Biomass_Ecoli_core    0.699137\n",
      "Name: fluxes, dtype: float64\n",
      "original obj's optimized value:  Biomass_Ecoli_core    0.699137\n",
      "Name: fluxes, dtype: float64\n",
      "original obj's optimized value:  Biomass_Ecoli_core    0.699137\n",
      "Name: fluxes, dtype: float64\n",
      "original obj's optimized value:  Biomass_Ecoli_core    0.699137\n",
      "Name: fluxes, dtype: float64\n"
     ]
    },
    {
     "name": "stderr",
     "output_type": "stream",
     "text": [
      "c:\\Users\\schen22_ad\\miniconda3\\envs\\MSSB_HW3\\Lib\\site-packages\\pipeGEM\\integration\\continuous\\GIMME.py:63: UserWarning: Boolean Series key will be reindexed to match DataFrame index.\n",
      "  to_remove = set(flux_df[abs(flux_df[\"fluxes\"]).sort_index() <=\n",
      "c:\\Users\\schen22_ad\\miniconda3\\envs\\MSSB_HW3\\Lib\\site-packages\\pipeGEM\\integration\\continuous\\GIMME.py:63: UserWarning: Boolean Series key will be reindexed to match DataFrame index.\n",
      "  to_remove = set(flux_df[abs(flux_df[\"fluxes\"]).sort_index() <=\n",
      "c:\\Users\\schen22_ad\\miniconda3\\envs\\MSSB_HW3\\Lib\\site-packages\\pipeGEM\\integration\\continuous\\GIMME.py:63: UserWarning: Boolean Series key will be reindexed to match DataFrame index.\n",
      "  to_remove = set(flux_df[abs(flux_df[\"fluxes\"]).sort_index() <=\n",
      "c:\\Users\\schen22_ad\\miniconda3\\envs\\MSSB_HW3\\Lib\\site-packages\\pipeGEM\\integration\\continuous\\GIMME.py:63: UserWarning: Boolean Series key will be reindexed to match DataFrame index.\n",
      "  to_remove = set(flux_df[abs(flux_df[\"fluxes\"]).sort_index() <=\n",
      "c:\\Users\\schen22_ad\\miniconda3\\envs\\MSSB_HW3\\Lib\\site-packages\\pipeGEM\\integration\\continuous\\GIMME.py:63: UserWarning: Boolean Series key will be reindexed to match DataFrame index.\n",
      "  to_remove = set(flux_df[abs(flux_df[\"fluxes\"]).sort_index() <=\n"
     ]
    },
    {
     "name": "stdout",
     "output_type": "stream",
     "text": [
      "original obj's optimized value:  Biomass_Ecoli_core    0.699137\n",
      "Name: fluxes, dtype: float64\n",
      "original obj's optimized value:  Biomass_Ecoli_core    0.699137\n",
      "Name: fluxes, dtype: float64\n",
      "original obj's optimized value:  Biomass_Ecoli_core    0.699137\n",
      "Name: fluxes, dtype: float64\n",
      "original obj's optimized value:  Biomass_Ecoli_core    0.699137\n",
      "Name: fluxes, dtype: float64\n",
      "original obj's optimized value:  Biomass_Ecoli_core    0.699137\n",
      "Name: fluxes, dtype: float64\n",
      "original obj's optimized value:  Biomass_Ecoli_core    0.699137\n",
      "Name: fluxes, dtype: float64\n",
      "original obj's optimized value:  Biomass_Ecoli_core    0.699137\n",
      "Name: fluxes, dtype: float64\n",
      "original obj's optimized value:  Biomass_Ecoli_core    0.699137\n",
      "Name: fluxes, dtype: float64\n"
     ]
    },
    {
     "name": "stderr",
     "output_type": "stream",
     "text": [
      "c:\\Users\\schen22_ad\\miniconda3\\envs\\MSSB_HW3\\Lib\\site-packages\\pipeGEM\\integration\\continuous\\GIMME.py:63: UserWarning: Boolean Series key will be reindexed to match DataFrame index.\n",
      "  to_remove = set(flux_df[abs(flux_df[\"fluxes\"]).sort_index() <=\n",
      "c:\\Users\\schen22_ad\\miniconda3\\envs\\MSSB_HW3\\Lib\\site-packages\\pipeGEM\\integration\\continuous\\GIMME.py:63: UserWarning: Boolean Series key will be reindexed to match DataFrame index.\n",
      "  to_remove = set(flux_df[abs(flux_df[\"fluxes\"]).sort_index() <=\n",
      "c:\\Users\\schen22_ad\\miniconda3\\envs\\MSSB_HW3\\Lib\\site-packages\\pipeGEM\\integration\\continuous\\GIMME.py:63: UserWarning: Boolean Series key will be reindexed to match DataFrame index.\n",
      "  to_remove = set(flux_df[abs(flux_df[\"fluxes\"]).sort_index() <=\n",
      "c:\\Users\\schen22_ad\\miniconda3\\envs\\MSSB_HW3\\Lib\\site-packages\\pipeGEM\\integration\\continuous\\GIMME.py:63: UserWarning: Boolean Series key will be reindexed to match DataFrame index.\n",
      "  to_remove = set(flux_df[abs(flux_df[\"fluxes\"]).sort_index() <=\n"
     ]
    }
   ],
   "source": [
    "group = {}\n",
    "for sample in raw_count.columns:\n",
    "    result = p_textbook.integrate_gene_data(\n",
    "        sample,\n",
    "        integrator=\"GIMME\",\n",
    "        high_exp=th_90_df[1][sample],\n",
    "        remove_zero_fluxes=True,\n",
    "    )\n",
    "    # group[sample] = [pg.Model(sample, result.result_model)]\n",
    "    group[sample] = {sample: result.result_model}"
   ]
  },
  {
   "cell_type": "code",
   "execution_count": 9,
   "id": "4427728c",
   "metadata": {},
   "outputs": [
    {
     "data": {
      "text/html": [
       "<div>\n",
       "<style scoped>\n",
       "    .dataframe tbody tr th:only-of-type {\n",
       "        vertical-align: middle;\n",
       "    }\n",
       "\n",
       "    .dataframe tbody tr th {\n",
       "        vertical-align: top;\n",
       "    }\n",
       "\n",
       "    .dataframe thead th {\n",
       "        text-align: right;\n",
       "    }\n",
       "</style>\n",
       "<table border=\"1\" class=\"dataframe\">\n",
       "  <thead>\n",
       "    <tr style=\"text-align: right;\">\n",
       "      <th></th>\n",
       "      <th>n_genes</th>\n",
       "      <th>n_rxns</th>\n",
       "      <th>n_mets</th>\n",
       "      <th>group_name</th>\n",
       "    </tr>\n",
       "  </thead>\n",
       "  <tbody>\n",
       "    <tr>\n",
       "      <th>WT_M9-glycerol-r1</th>\n",
       "      <td>92</td>\n",
       "      <td>50</td>\n",
       "      <td>52</td>\n",
       "      <td>WT_M9-glycerol-r1</td>\n",
       "    </tr>\n",
       "    <tr>\n",
       "      <th>WT_M9-glycerol-r2</th>\n",
       "      <td>92</td>\n",
       "      <td>50</td>\n",
       "      <td>52</td>\n",
       "      <td>WT_M9-glycerol-r2</td>\n",
       "    </tr>\n",
       "    <tr>\n",
       "      <th>u-ETS-1H_M9-glycerol-r1</th>\n",
       "      <td>98</td>\n",
       "      <td>52</td>\n",
       "      <td>54</td>\n",
       "      <td>u-ETS-1H_M9-glycerol-r1</td>\n",
       "    </tr>\n",
       "    <tr>\n",
       "      <th>u-ETS-1H_M9-glycerol-r2</th>\n",
       "      <td>98</td>\n",
       "      <td>52</td>\n",
       "      <td>54</td>\n",
       "      <td>u-ETS-1H_M9-glycerol-r2</td>\n",
       "    </tr>\n",
       "    <tr>\n",
       "      <th>u-ETS-2H_M9-glycerol-r1</th>\n",
       "      <td>83</td>\n",
       "      <td>48</td>\n",
       "      <td>50</td>\n",
       "      <td>u-ETS-2H_M9-glycerol-r1</td>\n",
       "    </tr>\n",
       "    <tr>\n",
       "      <th>u-ETS-2H_M9-glycerol-r2</th>\n",
       "      <td>83</td>\n",
       "      <td>48</td>\n",
       "      <td>50</td>\n",
       "      <td>u-ETS-2H_M9-glycerol-r2</td>\n",
       "    </tr>\n",
       "    <tr>\n",
       "      <th>u-ETS-3H_M9-glycerol -1</th>\n",
       "      <td>92</td>\n",
       "      <td>50</td>\n",
       "      <td>52</td>\n",
       "      <td>u-ETS-3H_M9-glycerol -1</td>\n",
       "    </tr>\n",
       "    <tr>\n",
       "      <th>u-ETS-3H_M9-glycerol -2</th>\n",
       "      <td>98</td>\n",
       "      <td>52</td>\n",
       "      <td>54</td>\n",
       "      <td>u-ETS-3H_M9-glycerol -2</td>\n",
       "    </tr>\n",
       "    <tr>\n",
       "      <th>u-ETS-4H_M9-glycerol-r1</th>\n",
       "      <td>83</td>\n",
       "      <td>48</td>\n",
       "      <td>50</td>\n",
       "      <td>u-ETS-4H_M9-glycerol-r1</td>\n",
       "    </tr>\n",
       "    <tr>\n",
       "      <th>u-ETS-4H_M9-glycerol-r2</th>\n",
       "      <td>83</td>\n",
       "      <td>48</td>\n",
       "      <td>50</td>\n",
       "      <td>u-ETS-4H_M9-glycerol-r2</td>\n",
       "    </tr>\n",
       "    <tr>\n",
       "      <th>GlyMOS-A_M9-glycerol-r1</th>\n",
       "      <td>93</td>\n",
       "      <td>52</td>\n",
       "      <td>54</td>\n",
       "      <td>GlyMOS-A_M9-glycerol-r1</td>\n",
       "    </tr>\n",
       "    <tr>\n",
       "      <th>GlyMOS-A_M9-glycerol-r2</th>\n",
       "      <td>99</td>\n",
       "      <td>54</td>\n",
       "      <td>56</td>\n",
       "      <td>GlyMOS-A_M9-glycerol-r2</td>\n",
       "    </tr>\n",
       "    <tr>\n",
       "      <th>e-Gly-ETS-1H-A_M9-glycerol-r1</th>\n",
       "      <td>99</td>\n",
       "      <td>54</td>\n",
       "      <td>56</td>\n",
       "      <td>e-Gly-ETS-1H-A_M9-glycerol-r1</td>\n",
       "    </tr>\n",
       "    <tr>\n",
       "      <th>e-Gly-ETS-1H-A_M9-glycerol-r2</th>\n",
       "      <td>99</td>\n",
       "      <td>54</td>\n",
       "      <td>56</td>\n",
       "      <td>e-Gly-ETS-1H-A_M9-glycerol-r2</td>\n",
       "    </tr>\n",
       "    <tr>\n",
       "      <th>e-Gly-ETS-2H-A_M9-glycerol-r1</th>\n",
       "      <td>89</td>\n",
       "      <td>50</td>\n",
       "      <td>52</td>\n",
       "      <td>e-Gly-ETS-2H-A_M9-glycerol-r1</td>\n",
       "    </tr>\n",
       "    <tr>\n",
       "      <th>e-Gly-ETS-2H-A_M9-glycerol-r2</th>\n",
       "      <td>89</td>\n",
       "      <td>50</td>\n",
       "      <td>52</td>\n",
       "      <td>e-Gly-ETS-2H-A_M9-glycerol-r2</td>\n",
       "    </tr>\n",
       "    <tr>\n",
       "      <th>e-Gly-ETS-3H-A_M9-glycerol-r1</th>\n",
       "      <td>98</td>\n",
       "      <td>52</td>\n",
       "      <td>54</td>\n",
       "      <td>e-Gly-ETS-3H-A_M9-glycerol-r1</td>\n",
       "    </tr>\n",
       "    <tr>\n",
       "      <th>e-Gly-ETS-3H-A_M9-glycerol-r2</th>\n",
       "      <td>98</td>\n",
       "      <td>52</td>\n",
       "      <td>54</td>\n",
       "      <td>e-Gly-ETS-3H-A_M9-glycerol-r2</td>\n",
       "    </tr>\n",
       "    <tr>\n",
       "      <th>e-Gly-ETS-4H-A_M9-glycerol-r1</th>\n",
       "      <td>83</td>\n",
       "      <td>48</td>\n",
       "      <td>50</td>\n",
       "      <td>e-Gly-ETS-4H-A_M9-glycerol-r1</td>\n",
       "    </tr>\n",
       "    <tr>\n",
       "      <th>e-Gly-ETS-4H-A_M9-glycerol-r2</th>\n",
       "      <td>83</td>\n",
       "      <td>48</td>\n",
       "      <td>50</td>\n",
       "      <td>e-Gly-ETS-4H-A_M9-glycerol-r2</td>\n",
       "    </tr>\n",
       "    <tr>\n",
       "      <th>WT_M9-succinate-r1</th>\n",
       "      <td>98</td>\n",
       "      <td>52</td>\n",
       "      <td>54</td>\n",
       "      <td>WT_M9-succinate-r1</td>\n",
       "    </tr>\n",
       "    <tr>\n",
       "      <th>WT_M9-succinate-r2</th>\n",
       "      <td>92</td>\n",
       "      <td>50</td>\n",
       "      <td>52</td>\n",
       "      <td>WT_M9-succinate-r2</td>\n",
       "    </tr>\n",
       "    <tr>\n",
       "      <th>u-ETS-1H_M9-succinate-r1</th>\n",
       "      <td>93</td>\n",
       "      <td>52</td>\n",
       "      <td>54</td>\n",
       "      <td>u-ETS-1H_M9-succinate-r1</td>\n",
       "    </tr>\n",
       "    <tr>\n",
       "      <th>u-ETS-1H_M9-succinate-r2</th>\n",
       "      <td>93</td>\n",
       "      <td>52</td>\n",
       "      <td>54</td>\n",
       "      <td>u-ETS-1H_M9-succinate-r2</td>\n",
       "    </tr>\n",
       "    <tr>\n",
       "      <th>u-ETS-2H_M9-succinate-r1</th>\n",
       "      <td>83</td>\n",
       "      <td>48</td>\n",
       "      <td>50</td>\n",
       "      <td>u-ETS-2H_M9-succinate-r1</td>\n",
       "    </tr>\n",
       "    <tr>\n",
       "      <th>u-ETS-2H_M9-succinate-r2</th>\n",
       "      <td>83</td>\n",
       "      <td>48</td>\n",
       "      <td>50</td>\n",
       "      <td>u-ETS-2H_M9-succinate-r2</td>\n",
       "    </tr>\n",
       "    <tr>\n",
       "      <th>u-ETS-3H_M9-succinate-r1</th>\n",
       "      <td>98</td>\n",
       "      <td>52</td>\n",
       "      <td>54</td>\n",
       "      <td>u-ETS-3H_M9-succinate-r1</td>\n",
       "    </tr>\n",
       "    <tr>\n",
       "      <th>u-ETS-3H_M9-succinate-r2</th>\n",
       "      <td>99</td>\n",
       "      <td>54</td>\n",
       "      <td>56</td>\n",
       "      <td>u-ETS-3H_M9-succinate-r2</td>\n",
       "    </tr>\n",
       "    <tr>\n",
       "      <th>u-ETS-4H_M9-succinate-r1</th>\n",
       "      <td>83</td>\n",
       "      <td>48</td>\n",
       "      <td>50</td>\n",
       "      <td>u-ETS-4H_M9-succinate-r1</td>\n",
       "    </tr>\n",
       "    <tr>\n",
       "      <th>u-ETS-4H_M9-succinate-r2</th>\n",
       "      <td>83</td>\n",
       "      <td>48</td>\n",
       "      <td>50</td>\n",
       "      <td>u-ETS-4H_M9-succinate-r2</td>\n",
       "    </tr>\n",
       "    <tr>\n",
       "      <th>SMOS-A_M9-succinate-r1</th>\n",
       "      <td>98</td>\n",
       "      <td>52</td>\n",
       "      <td>54</td>\n",
       "      <td>SMOS-A_M9-succinate-r1</td>\n",
       "    </tr>\n",
       "    <tr>\n",
       "      <th>SMOS-A_M9-succinate-r2</th>\n",
       "      <td>99</td>\n",
       "      <td>54</td>\n",
       "      <td>56</td>\n",
       "      <td>SMOS-A_M9-succinate-r2</td>\n",
       "    </tr>\n",
       "    <tr>\n",
       "      <th>e-Suc-ETS-1H-A_M9-succinate-r1</th>\n",
       "      <td>99</td>\n",
       "      <td>54</td>\n",
       "      <td>56</td>\n",
       "      <td>e-Suc-ETS-1H-A_M9-succinate-r1</td>\n",
       "    </tr>\n",
       "    <tr>\n",
       "      <th>e-Suc-ETS-1H-A_M9-succinate-r2</th>\n",
       "      <td>99</td>\n",
       "      <td>54</td>\n",
       "      <td>56</td>\n",
       "      <td>e-Suc-ETS-1H-A_M9-succinate-r2</td>\n",
       "    </tr>\n",
       "    <tr>\n",
       "      <th>e-Suc-ETS-2H-A_M9-succinate-r1</th>\n",
       "      <td>83</td>\n",
       "      <td>48</td>\n",
       "      <td>50</td>\n",
       "      <td>e-Suc-ETS-2H-A_M9-succinate-r1</td>\n",
       "    </tr>\n",
       "    <tr>\n",
       "      <th>e-Suc-ETS-2H-A_M9-succinate-r2</th>\n",
       "      <td>83</td>\n",
       "      <td>48</td>\n",
       "      <td>50</td>\n",
       "      <td>e-Suc-ETS-2H-A_M9-succinate-r2</td>\n",
       "    </tr>\n",
       "    <tr>\n",
       "      <th>e-Suc-ETS-3H-A_M9-succinate-r1</th>\n",
       "      <td>99</td>\n",
       "      <td>53</td>\n",
       "      <td>55</td>\n",
       "      <td>e-Suc-ETS-3H-A_M9-succinate-r1</td>\n",
       "    </tr>\n",
       "    <tr>\n",
       "      <th>e-Suc-ETS-3H-A_M9-succinate-r2</th>\n",
       "      <td>99</td>\n",
       "      <td>53</td>\n",
       "      <td>55</td>\n",
       "      <td>e-Suc-ETS-3H-A_M9-succinate-r2</td>\n",
       "    </tr>\n",
       "    <tr>\n",
       "      <th>e-Suc-ETS-4H-A_M9-succinate-r1</th>\n",
       "      <td>83</td>\n",
       "      <td>48</td>\n",
       "      <td>50</td>\n",
       "      <td>e-Suc-ETS-4H-A_M9-succinate-r1</td>\n",
       "    </tr>\n",
       "    <tr>\n",
       "      <th>e-Suc-ETS-4H-A_M9-succinate-r2</th>\n",
       "      <td>83</td>\n",
       "      <td>48</td>\n",
       "      <td>50</td>\n",
       "      <td>e-Suc-ETS-4H-A_M9-succinate-r2</td>\n",
       "    </tr>\n",
       "  </tbody>\n",
       "</table>\n",
       "</div>"
      ],
      "text/plain": [
       "                               n_genes n_rxns n_mets  \\\n",
       "WT_M9-glycerol-r1                   92     50     52   \n",
       "WT_M9-glycerol-r2                   92     50     52   \n",
       "u-ETS-1H_M9-glycerol-r1             98     52     54   \n",
       "u-ETS-1H_M9-glycerol-r2             98     52     54   \n",
       "u-ETS-2H_M9-glycerol-r1             83     48     50   \n",
       "u-ETS-2H_M9-glycerol-r2             83     48     50   \n",
       "u-ETS-3H_M9-glycerol -1             92     50     52   \n",
       "u-ETS-3H_M9-glycerol -2             98     52     54   \n",
       "u-ETS-4H_M9-glycerol-r1             83     48     50   \n",
       "u-ETS-4H_M9-glycerol-r2             83     48     50   \n",
       "GlyMOS-A_M9-glycerol-r1             93     52     54   \n",
       "GlyMOS-A_M9-glycerol-r2             99     54     56   \n",
       "e-Gly-ETS-1H-A_M9-glycerol-r1       99     54     56   \n",
       "e-Gly-ETS-1H-A_M9-glycerol-r2       99     54     56   \n",
       "e-Gly-ETS-2H-A_M9-glycerol-r1       89     50     52   \n",
       "e-Gly-ETS-2H-A_M9-glycerol-r2       89     50     52   \n",
       "e-Gly-ETS-3H-A_M9-glycerol-r1       98     52     54   \n",
       "e-Gly-ETS-3H-A_M9-glycerol-r2       98     52     54   \n",
       "e-Gly-ETS-4H-A_M9-glycerol-r1       83     48     50   \n",
       "e-Gly-ETS-4H-A_M9-glycerol-r2       83     48     50   \n",
       "WT_M9-succinate-r1                  98     52     54   \n",
       "WT_M9-succinate-r2                  92     50     52   \n",
       "u-ETS-1H_M9-succinate-r1            93     52     54   \n",
       "u-ETS-1H_M9-succinate-r2            93     52     54   \n",
       "u-ETS-2H_M9-succinate-r1            83     48     50   \n",
       "u-ETS-2H_M9-succinate-r2            83     48     50   \n",
       "u-ETS-3H_M9-succinate-r1            98     52     54   \n",
       "u-ETS-3H_M9-succinate-r2            99     54     56   \n",
       "u-ETS-4H_M9-succinate-r1            83     48     50   \n",
       "u-ETS-4H_M9-succinate-r2            83     48     50   \n",
       "SMOS-A_M9-succinate-r1              98     52     54   \n",
       "SMOS-A_M9-succinate-r2              99     54     56   \n",
       "e-Suc-ETS-1H-A_M9-succinate-r1      99     54     56   \n",
       "e-Suc-ETS-1H-A_M9-succinate-r2      99     54     56   \n",
       "e-Suc-ETS-2H-A_M9-succinate-r1      83     48     50   \n",
       "e-Suc-ETS-2H-A_M9-succinate-r2      83     48     50   \n",
       "e-Suc-ETS-3H-A_M9-succinate-r1      99     53     55   \n",
       "e-Suc-ETS-3H-A_M9-succinate-r2      99     53     55   \n",
       "e-Suc-ETS-4H-A_M9-succinate-r1      83     48     50   \n",
       "e-Suc-ETS-4H-A_M9-succinate-r2      83     48     50   \n",
       "\n",
       "                                                    group_name  \n",
       "WT_M9-glycerol-r1                            WT_M9-glycerol-r1  \n",
       "WT_M9-glycerol-r2                            WT_M9-glycerol-r2  \n",
       "u-ETS-1H_M9-glycerol-r1                u-ETS-1H_M9-glycerol-r1  \n",
       "u-ETS-1H_M9-glycerol-r2                u-ETS-1H_M9-glycerol-r2  \n",
       "u-ETS-2H_M9-glycerol-r1                u-ETS-2H_M9-glycerol-r1  \n",
       "u-ETS-2H_M9-glycerol-r2                u-ETS-2H_M9-glycerol-r2  \n",
       "u-ETS-3H_M9-glycerol -1                u-ETS-3H_M9-glycerol -1  \n",
       "u-ETS-3H_M9-glycerol -2                u-ETS-3H_M9-glycerol -2  \n",
       "u-ETS-4H_M9-glycerol-r1                u-ETS-4H_M9-glycerol-r1  \n",
       "u-ETS-4H_M9-glycerol-r2                u-ETS-4H_M9-glycerol-r2  \n",
       "GlyMOS-A_M9-glycerol-r1                GlyMOS-A_M9-glycerol-r1  \n",
       "GlyMOS-A_M9-glycerol-r2                GlyMOS-A_M9-glycerol-r2  \n",
       "e-Gly-ETS-1H-A_M9-glycerol-r1    e-Gly-ETS-1H-A_M9-glycerol-r1  \n",
       "e-Gly-ETS-1H-A_M9-glycerol-r2    e-Gly-ETS-1H-A_M9-glycerol-r2  \n",
       "e-Gly-ETS-2H-A_M9-glycerol-r1    e-Gly-ETS-2H-A_M9-glycerol-r1  \n",
       "e-Gly-ETS-2H-A_M9-glycerol-r2    e-Gly-ETS-2H-A_M9-glycerol-r2  \n",
       "e-Gly-ETS-3H-A_M9-glycerol-r1   e-Gly-ETS-3H-A_M9-glycerol-r1   \n",
       "e-Gly-ETS-3H-A_M9-glycerol-r2    e-Gly-ETS-3H-A_M9-glycerol-r2  \n",
       "e-Gly-ETS-4H-A_M9-glycerol-r1    e-Gly-ETS-4H-A_M9-glycerol-r1  \n",
       "e-Gly-ETS-4H-A_M9-glycerol-r2    e-Gly-ETS-4H-A_M9-glycerol-r2  \n",
       "WT_M9-succinate-r1                          WT_M9-succinate-r1  \n",
       "WT_M9-succinate-r2                          WT_M9-succinate-r2  \n",
       "u-ETS-1H_M9-succinate-r1              u-ETS-1H_M9-succinate-r1  \n",
       "u-ETS-1H_M9-succinate-r2              u-ETS-1H_M9-succinate-r2  \n",
       "u-ETS-2H_M9-succinate-r1              u-ETS-2H_M9-succinate-r1  \n",
       "u-ETS-2H_M9-succinate-r2              u-ETS-2H_M9-succinate-r2  \n",
       "u-ETS-3H_M9-succinate-r1              u-ETS-3H_M9-succinate-r1  \n",
       "u-ETS-3H_M9-succinate-r2              u-ETS-3H_M9-succinate-r2  \n",
       "u-ETS-4H_M9-succinate-r1              u-ETS-4H_M9-succinate-r1  \n",
       "u-ETS-4H_M9-succinate-r2              u-ETS-4H_M9-succinate-r2  \n",
       "SMOS-A_M9-succinate-r1                  SMOS-A_M9-succinate-r1  \n",
       "SMOS-A_M9-succinate-r2                  SMOS-A_M9-succinate-r2  \n",
       "e-Suc-ETS-1H-A_M9-succinate-r1  e-Suc-ETS-1H-A_M9-succinate-r1  \n",
       "e-Suc-ETS-1H-A_M9-succinate-r2  e-Suc-ETS-1H-A_M9-succinate-r2  \n",
       "e-Suc-ETS-2H-A_M9-succinate-r1  e-Suc-ETS-2H-A_M9-succinate-r1  \n",
       "e-Suc-ETS-2H-A_M9-succinate-r2  e-Suc-ETS-2H-A_M9-succinate-r2  \n",
       "e-Suc-ETS-3H-A_M9-succinate-r1  e-Suc-ETS-3H-A_M9-succinate-r1  \n",
       "e-Suc-ETS-3H-A_M9-succinate-r2  e-Suc-ETS-3H-A_M9-succinate-r2  \n",
       "e-Suc-ETS-4H-A_M9-succinate-r1  e-Suc-ETS-4H-A_M9-succinate-r1  \n",
       "e-Suc-ETS-4H-A_M9-succinate-r2  e-Suc-ETS-4H-A_M9-succinate-r2  "
      ]
     },
     "execution_count": 9,
     "metadata": {},
     "output_type": "execute_result"
    }
   ],
   "source": [
    "grp = pg.Group(group)\n",
    "info_df = grp.get_info(features=[\"n_genes\", \"n_rxns\", \"n_mets\"])\n",
    "info_df"
   ]
  },
  {
   "cell_type": "markdown",
   "id": "dd6539c8",
   "metadata": {},
   "source": [
    "# Q7"
   ]
  },
  {
   "cell_type": "code",
   "execution_count": 10,
   "id": "23e7c97b",
   "metadata": {},
   "outputs": [],
   "source": [
    "wt1_model = group[\"WT_M9-glycerol-r1\"][\"WT_M9-glycerol-r1\"]\n",
    "wt2_model = group[\"WT_M9-glycerol-r2\"][\"WT_M9-glycerol-r2\"]\n",
    "suc1_model = group[\"u-ETS-4H_M9-succinate-r1\"][\"u-ETS-4H_M9-succinate-r1\"]\n",
    "suc2_model = group[\"u-ETS-4H_M9-succinate-r2\"][\"u-ETS-4H_M9-succinate-r2\"]"
   ]
  },
  {
   "cell_type": "code",
   "execution_count": 11,
   "id": "5c8f9ddd",
   "metadata": {},
   "outputs": [],
   "source": [
    "group = pg.Group(\n",
    "    {\n",
    "        \"WT\": {\"wt1\": wt1_model, \"wt2\": wt2_model},\n",
    "        \"succinate\": {\"suc_1\": suc1_model, \"suc2\": suc2_model},\n",
    "    }\n",
    ")"
   ]
  },
  {
   "cell_type": "code",
   "execution_count": null,
   "id": "d2fd14b3",
   "metadata": {},
   "outputs": [],
   "source": [
    "# Encounter GPR.__init__() takes from 1 to 2 positional arguments but 3 were given\n",
    "# Thus, rewrite the cobra function to fix it.\n",
    "from copy import deepcopy\n",
    "\n",
    "import cobra\n",
    "\n",
    "\n",
    "def fixed_copy(self):\n",
    "    \"\"\"Copy a GPR.\"\"\"\n",
    "    gpr = cobra.core.gene.GPR(\"\")\n",
    "    gpr._genes = deepcopy(self._genes)\n",
    "    return gpr\n",
    "\n",
    "\n",
    "def fixed_copy_shallow(self):\n",
    "    \"\"\"Ensure a correct shallow copy.\"\"\"\n",
    "    gpr = cobra.core.gene.GPR(\"\")\n",
    "    gpr._genes = copy(self._genes)\n",
    "    return gpr\n",
    "\n",
    "\n",
    "cobra.core.gene.GPR.copy = fixed_copy\n",
    "cobra.core.gene.GPR.__copy__ = fixed_copy_shallow"
   ]
  },
  {
   "cell_type": "code",
   "execution_count": null,
   "id": "ef10228b",
   "metadata": {},
   "outputs": [],
   "source": [
    "sampling_result = group.do_flux_analysis(\n",
    "    method=\"sampling\",\n",
    "    n=100,\n",
    "    solver=\"glpk\",\n",
    ")"
   ]
  },
  {
   "cell_type": "code",
   "execution_count": null,
   "id": "4fca93fd",
   "metadata": {},
   "outputs": [
    {
     "data": {
      "image/png": "[encoded data removed]",
      "text/plain": [
       "<Figure size 500x500 with 1 Axes>"
      ]
     },
     "metadata": {},
     "output_type": "display_data"
    }
   ],
   "source": [
    "sampling_result.plot(\n",
    "    rxn_id=\"Biomass_Ecoli_core\",\n",
    "    plotting_type=\"catplot\",\n",
    "    kind=\"violin\",\n",
    "    group_by=\"group_name\",\n",
    ")"
   ]
  }
 ],
 "metadata": {
  "kernelspec": {
   "display_name": "MSSB_HW3",
   "language": "python",
   "name": "python3"
  },
  "language_info": {
   "codemirror_mode": {
    "name": "ipython",
    "version": 3
   },
   "file_extension": ".py",
   "mimetype": "text/x-python",
   "name": "python",
   "nbconvert_exporter": "python",
   "pygments_lexer": "ipython3",
   "version": "3.13.3"
  }
 },
 "nbformat": 4,
 "nbformat_minor": 5
}
